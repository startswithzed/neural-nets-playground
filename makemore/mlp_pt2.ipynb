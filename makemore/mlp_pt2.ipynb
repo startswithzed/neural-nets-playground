{
 "cells": [
  {
   "cell_type": "code",
   "execution_count": 11,
   "metadata": {},
   "outputs": [],
   "source": [
    "import torch\n",
    "import torch.nn.functional as F\n",
    "import matplotlib.pyplot as plt # for making figures\n",
    "%matplotlib inline\n",
    "import random"
   ]
  },
  {
   "cell_type": "code",
   "execution_count": 12,
   "metadata": {},
   "outputs": [],
   "source": [
    "words = open('../data/names.txt', 'r').read().splitlines()"
   ]
  },
  {
   "cell_type": "code",
   "execution_count": 13,
   "metadata": {},
   "outputs": [
    {
     "name": "stdout",
     "output_type": "stream",
     "text": [
      "{1: 'a', 2: 'b', 3: 'c', 4: 'd', 5: 'e', 6: 'f', 7: 'g', 8: 'h', 9: 'i', 10: 'j', 11: 'k', 12: 'l', 13: 'm', 14: 'n', 15: 'o', 16: 'p', 17: 'q', 18: 'r', 19: 's', 20: 't', 21: 'u', 22: 'v', 23: 'w', 24: 'x', 25: 'y', 26: 'z', 0: '.'}\n",
      "27\n"
     ]
    }
   ],
   "source": [
    "# build the vocabulary of characters and mappings to/from integers\n",
    "chars = sorted(list(set(''.join(words))))\n",
    "chtoi = {ch:i+1 for i, ch in enumerate(chars)}\n",
    "chtoi['.'] = 0\n",
    "itoch = {i:ch for ch, i in chtoi.items()}\n",
    "vocab_size = len(itoch)\n",
    "print(itoch)\n",
    "print(vocab_size)"
   ]
  },
  {
   "cell_type": "code",
   "execution_count": 14,
   "metadata": {},
   "outputs": [
    {
     "name": "stdout",
     "output_type": "stream",
     "text": [
      "torch.Size([182674, 3]) torch.Size([182674])\n",
      "torch.Size([22671, 3]) torch.Size([22671])\n",
      "torch.Size([22801, 3]) torch.Size([22801])\n"
     ]
    }
   ],
   "source": [
    "# build the dataset\n",
    "block_size = 3 # context length: how many characters do we take to predict the next one\n",
    "\n",
    "def build_dataset(words):  \n",
    "  X, Y = [], []\n",
    "  \n",
    "  for w in words:\n",
    "    context = [0] * block_size\n",
    "    for ch in w + '.':\n",
    "      ix = chtoi[ch]\n",
    "      X.append(context)\n",
    "      Y.append(ix)\n",
    "      context = context[1:] + [ix] # crop and append\n",
    "\n",
    "  X = torch.tensor(X)\n",
    "  Y = torch.tensor(Y)\n",
    "  print(X.shape, Y.shape)\n",
    "  return X, Y\n",
    "\n",
    "random.shuffle(words)\n",
    "n1 = int(0.8*len(words))\n",
    "n2 = int(0.9*len(words))\n",
    "\n",
    "Xtr,  Ytr  = build_dataset(words[:n1])     # 80%\n",
    "Xval, Yval = build_dataset(words[n1:n2])   # 10%\n",
    "Xtest,  Ytest  = build_dataset(words[n2:])     # 10%"
   ]
  },
  {
   "cell_type": "code",
   "execution_count": 15,
   "metadata": {},
   "outputs": [],
   "source": [
    "def init_params(n_embed=10, n_hidden=200, vocab_size=27, block_size=3):\n",
    "    C  = torch.randn((vocab_size, n_embed))\n",
    "    W1 = torch.randn((n_embed * block_size, n_hidden))\n",
    "    B1 = torch.randn(n_hidden)\n",
    "    W2 = torch.randn((n_hidden, vocab_size)) \n",
    "    B2 = torch.randn(vocab_size)\n",
    "\n",
    "    params = [C, W1, B1, W2, B2]\n",
    "    print(sum(p.nelement() for p in params)) \n",
    "    \n",
    "    for p in params:\n",
    "      p.requires_grad = True\n",
    "\n",
    "    return C, W1, B1, W2, B2\n"
   ]
  },
  {
   "cell_type": "code",
   "execution_count": 45,
   "metadata": {},
   "outputs": [],
   "source": [
    "def train(n_iters, lr, lossi, batch_size=32):\n",
    "    for i in range(n_iters):\n",
    "        \n",
    "        # creating mini batch\n",
    "        ix = torch.randint(0, Xtr.shape[0], (batch_size, ))\n",
    "        Xb, Yb = Xtr[ix], Ytr[ix]\n",
    "\n",
    "        # forward pass\n",
    "        emb = C[Xb] # embed characters to vectors\n",
    "        embcat = emb.view(emb.shape[0], -1) #concatenate the vectors\n",
    "        hpreact = embcat @ W1 + B1 # hidden layer pre-activation \n",
    "        h = torch.tanh(hpreact) # hidden layer\n",
    "        logits = h @ W2 + B2\n",
    "        loss = F.cross_entropy(logits, Yb)\n",
    "\n",
    "        params = [C, W1, B1, W2, B2]\n",
    "\n",
    "        # backward pass\n",
    "        for p in params:\n",
    "            p.grad = None\n",
    "        loss.backward()\n",
    "\n",
    "        #update params\n",
    "        for p in params:\n",
    "            p.data += -lr * p.grad \n",
    "\n",
    "        # track stats\n",
    "        if i % 10_000 == 0: # print loss every 10k steps\n",
    "            print(f'step {i:7d} of {n_iters:7d}: {loss.item():.4f}')\n",
    "        lossi.append(loss.log10().item()) # keeping track of log10 of losses\n",
    "\n",
    "    return lossi    "
   ]
  },
  {
   "cell_type": "code",
   "execution_count": 31,
   "metadata": {},
   "outputs": [],
   "source": [
    "@torch.no_grad()\n",
    "def split_loss(split):\n",
    "    x, y = {\n",
    "        'train': (Xtr, Ytr),\n",
    "        'val': (Xval, Yval),\n",
    "        'test': (Xtest, Ytest)\n",
    "    }[split]\n",
    "\n",
    "    emb = C[x]\n",
    "    embcat = emb.view(emb.shape[0], -1)\n",
    "    h = torch.tanh(embcat @ W1 + B1)\n",
    "    logits = h @ W2 + B2\n",
    "    loss = F.cross_entropy(logits, y)\n",
    "    print(split, loss.item())"
   ]
  },
  {
   "cell_type": "code",
   "execution_count": 32,
   "metadata": {},
   "outputs": [],
   "source": [
    "def sample(n_samples=20):\n",
    "    for _ in range(20):\n",
    "        out = []\n",
    "        context = [0] * block_size # init context with all dots ...\n",
    "        while True:\n",
    "            emb = C[torch.tensor([context])] # (1, block_size, d)\n",
    "            h = torch.tanh(emb.view(1, -1) @ W1 + B1)\n",
    "            logits = h @ W2 + B2\n",
    "            probs = F.softmax(logits, dim=1)\n",
    "            ix = torch.multinomial(probs, num_samples=1).item()\n",
    "            context = context[1:] + [ix]\n",
    "            out.append(ix)\n",
    "            if ix == 0:\n",
    "                break\n",
    "\n",
    "        print(''.join(itoch[i] for i in out))    "
   ]
  },
  {
   "cell_type": "code",
   "execution_count": 46,
   "metadata": {},
   "outputs": [
    {
     "name": "stdout",
     "output_type": "stream",
     "text": [
      "11897\n"
     ]
    }
   ],
   "source": [
    "C, W1, B1, W2, B2 = init_params()"
   ]
  },
  {
   "cell_type": "code",
   "execution_count": 47,
   "metadata": {},
   "outputs": [
    {
     "name": "stdout",
     "output_type": "stream",
     "text": [
      "step       0 of   50000: 26.0871\n",
      "step   10000 of   50000: 2.7375\n",
      "step   20000 of   50000: 2.3294\n",
      "step   30000 of   50000: 2.3164\n",
      "step   40000 of   50000: 2.4084\n"
     ]
    }
   ],
   "source": [
    "lossi = []\n",
    "lossi = train(n_iters=50_000, lossi=lossi, lr=0.1)"
   ]
  },
  {
   "cell_type": "code",
   "execution_count": 48,
   "metadata": {},
   "outputs": [
    {
     "data": {
      "text/plain": [
       "[<matplotlib.lines.Line2D at 0x10443cc10>]"
      ]
     },
     "execution_count": 48,
     "metadata": {},
     "output_type": "execute_result"
    },
    {
     "data": {
      "image/png": "[encoded data removed]",
      "text/plain": [
       "<Figure size 640x480 with 1 Axes>"
      ]
     },
     "metadata": {},
     "output_type": "display_data"
    }
   ],
   "source": [
    "plt.plot(lossi)"
   ]
  },
  {
   "cell_type": "code",
   "execution_count": 50,
   "metadata": {},
   "outputs": [
    {
     "name": "stdout",
     "output_type": "stream",
     "text": [
      "train 2.381133556365967\n",
      "val 2.424038887023926\n"
     ]
    }
   ],
   "source": [
    "split_loss('train')\n",
    "split_loss('val')"
   ]
  },
  {
   "cell_type": "code",
   "execution_count": 51,
   "metadata": {},
   "outputs": [
    {
     "name": "stdout",
     "output_type": "stream",
     "text": [
      "emmeen.\n",
      "ayaenni.\n",
      "yani.\n",
      "men.\n",
      "caleiga.\n",
      "amailo.\n",
      "cayley.\n",
      "finis.\n",
      "amee.\n",
      "gaeme.\n",
      "fide.\n",
      "noere.\n",
      "aden.\n",
      "ne.\n",
      "nateste.\n",
      "jazeellie.\n",
      "vane.\n",
      "lelu.\n",
      "aagugneea.\n",
      "kenn.\n"
     ]
    }
   ],
   "source": [
    "sample()"
   ]
  },
  {
   "attachments": {},
   "cell_type": "markdown",
   "metadata": {},
   "source": [
    "## Fixing Initialization Loss\n",
    "\n",
    "Our initial loss is very high which then rapidly falls, this shows that the initialization isn't proper because the loss is too high. When training Neural Nets we almost always have some idea of what loss to expect at initialization.\n",
    "\n",
    "At initialization, all characters have the same probability i.e. the probability distribution is uniform across all characters."
   ]
  },
  {
   "cell_type": "code",
   "execution_count": 55,
   "metadata": {},
   "outputs": [
    {
     "data": {
      "text/plain": [
       "tensor(3.2958)"
      ]
     },
     "execution_count": 55,
     "metadata": {},
     "output_type": "execute_result"
    }
   ],
   "source": [
    "# prob for any character will be\n",
    "p = torch.tensor(1 / 27.0)\n",
    "loss  = -p.log()\n",
    "loss"
   ]
  },
  {
   "attachments": {},
   "cell_type": "markdown",
   "metadata": {},
   "source": [
    "The initial loss expected is 3.29 which is much lower than what our first iteration has. The reason is at initialization the network is creating a random probability distribution in which some characters are very confident and some aren't which leads to the network being very confidently wrong."
   ]
  },
  {
   "cell_type": "code",
   "execution_count": 93,
   "metadata": {},
   "outputs": [],
   "source": [
    "# updating init function\n",
    "def init_params(n_embed=10, n_hidden=200, vocab_size=27, block_size=3):\n",
    "    C  = torch.randn((vocab_size, n_embed))\n",
    "    W1 = torch.randn((n_embed * block_size, n_hidden))\n",
    "    B1 = torch.randn(n_hidden)\n",
    "    W2 = torch.randn((n_hidden, vocab_size)) * 0.01 \n",
    "    B2 = torch.randn(vocab_size) * 0\n",
    "\n",
    "    params = [C, W1, B1, W2, B2]\n",
    "    print(sum(p.nelement() for p in params)) \n",
    "    \n",
    "    for p in params:\n",
    "      p.requires_grad = True\n",
    "\n",
    "    return C, W1, B1, W2, B2"
   ]
  },
  {
   "attachments": {},
   "cell_type": "markdown",
   "metadata": {},
   "source": [
    "- We have updated `B2` to be 0 because in order to bring them as close as possible to 0, we don't want to add anything to the `logits` initially.\n",
    "- We have added a scale down factor of 0.01 to `W2` for the same reason that we don't want our initial values to multiply with high random numbers.\n",
    "\n",
    "Training with our updated initialization:"
   ]
  },
  {
   "cell_type": "code",
   "execution_count": 94,
   "metadata": {},
   "outputs": [
    {
     "name": "stdout",
     "output_type": "stream",
     "text": [
      "11897\n",
      "step       0 of  100000: 3.3406\n",
      "step   10000 of  100000: 2.3823\n",
      "step   20000 of  100000: 2.6873\n",
      "step   30000 of  100000: 2.8254\n",
      "step   40000 of  100000: 2.7461\n",
      "step   50000 of  100000: 2.2923\n",
      "step   60000 of  100000: 2.3396\n",
      "step   70000 of  100000: 2.4500\n",
      "step   80000 of  100000: 1.8712\n",
      "step   90000 of  100000: 2.1205\n",
      "train 2.1837990283966064\n",
      "val 2.259556770324707\n"
     ]
    }
   ],
   "source": [
    "C, W1, B1, W2, B2 = init_params()\n",
    "lossi = []\n",
    "lossi = train(n_iters=100_000, lossi=lossi, lr=0.1)\n",
    "split_loss('train')\n",
    "split_loss('val')"
   ]
  },
  {
   "cell_type": "code",
   "execution_count": 95,
   "metadata": {},
   "outputs": [
    {
     "data": {
      "text/plain": [
       "[<matplotlib.lines.Line2D at 0x1639c22b0>]"
      ]
     },
     "execution_count": 95,
     "metadata": {},
     "output_type": "execute_result"
    },
    {
     "data": {
      "image/png": "[encoded data removed]",
      "text/plain": [
       "<Figure size 640x480 with 1 Axes>"
      ]
     },
     "metadata": {},
     "output_type": "display_data"
    }
   ],
   "source": [
    "plt.plot(lossi)"
   ]
  },
  {
   "attachments": {},
   "cell_type": "markdown",
   "metadata": {},
   "source": [
    "Our initial loss has become very close to what we expect which can be seen in our plot of the loss which doesn't have the hockey shape appearance anymore.\n",
    "\n",
    "Because of a better initialization the network has more cycles to actually optimize itself actually instead of spending the first few iteration to just squash the weights to bring them down from high random values."
   ]
  },
  {
   "attachments": {},
   "cell_type": "markdown",
   "metadata": {},
   "source": [
    "## Fixing `tanh` Saturation"
   ]
  },
  {
   "cell_type": "code",
   "execution_count": 96,
   "metadata": {},
   "outputs": [
    {
     "data": {
      "text/plain": [
       "tensor([[ 1.0000, -0.9994, -0.9371,  ..., -0.9320, -1.0000,  0.9996],\n",
       "        [ 1.0000, -0.9990,  1.0000,  ..., -0.9170, -1.0000,  0.9990],\n",
       "        [ 0.8968,  0.9235, -0.9867,  ..., -0.9997,  0.8858, -0.5534],\n",
       "        ...,\n",
       "        [-0.8467,  0.9962,  1.0000,  ..., -1.0000, -1.0000,  1.0000],\n",
       "        [ 0.9817,  0.9954, -0.9979,  ..., -0.9985, -1.0000,  1.0000],\n",
       "        [ 0.9947, -1.0000, -0.9999,  ..., -0.9927,  1.0000, -0.9999]],\n",
       "       grad_fn=<TanhBackward0>)"
      ]
     },
     "execution_count": 96,
     "metadata": {},
     "output_type": "execute_result"
    }
   ],
   "source": [
    "ix = torch.randint(0, Xtr.shape[0], (32, ))\n",
    "Xb = Xtr[ix]\n",
    "emb = C[Xb] \n",
    "embcat = emb.view(emb.shape[0], -1) \n",
    "hpreact = embcat @ W1 + B1 \n",
    "h = torch.tanh(hpreact) \n",
    "h"
   ]
  },
  {
   "attachments": {},
   "cell_type": "markdown",
   "metadata": {},
   "source": [
    "Notice that a lot of values in `h` are 1 or -1. The `torch.tanh` function is a squash function and squashed the values smoothly between -1 and 1. Let's take a look at the histogram of `h`."
   ]
  },
  {
   "cell_type": "code",
   "execution_count": 97,
   "metadata": {},
   "outputs": [
    {
     "data": {
      "text/plain": [
       "torch.Size([32, 200])"
      ]
     },
     "execution_count": 97,
     "metadata": {},
     "output_type": "execute_result"
    }
   ],
   "source": [
    "h.shape"
   ]
  },
  {
   "cell_type": "code",
   "execution_count": 98,
   "metadata": {},
   "outputs": [
    {
     "data": {
      "text/plain": [
       "torch.Size([6400])"
      ]
     },
     "execution_count": 98,
     "metadata": {},
     "output_type": "execute_result"
    }
   ],
   "source": [
    "# stretch h into 1 large vector\n",
    "h.view(-1).shape"
   ]
  },
  {
   "cell_type": "code",
   "execution_count": 99,
   "metadata": {},
   "outputs": [
    {
     "data": {
      "text/plain": [
       "[0.9999740123748779,\n",
       " -0.9993640184402466,\n",
       " -0.937055766582489,\n",
       " 0.9008157849311829,\n",
       " -0.40095168352127075,\n",
       " -0.9949542284011841,\n",
       " 0.9999987483024597,\n",
       " -0.9998396635055542,\n",
       " -0.9994168877601624,\n",
       " 0.9999866485595703]"
      ]
     },
     "execution_count": 99,
     "metadata": {},
     "output_type": "execute_result"
    }
   ],
   "source": [
    "# convert it into a list\n",
    "h_list = h.view(-1).tolist()\n",
    "h_list[:10]"
   ]
  },
  {
   "cell_type": "code",
   "execution_count": 100,
   "metadata": {},
   "outputs": [
    {
     "data": {
      "image/png": "[encoded data removed]",
      "text/plain": [
       "<Figure size 640x480 with 1 Axes>"
      ]
     },
     "metadata": {},
     "output_type": "display_data"
    }
   ],
   "source": [
    "# draw histogram\n",
    "plt.hist(h_list, 50); # semi colon to suppress output"
   ]
  },
  {
   "attachments": {},
   "cell_type": "markdown",
   "metadata": {},
   "source": [
    "We can confirm from the graph that most of the values are -1 and 1 which makes the `tanh` very active. \n",
    "\n",
    "Now let's look at the pre-activations that feed into the `tanh`."
   ]
  },
  {
   "cell_type": "code",
   "execution_count": 101,
   "metadata": {},
   "outputs": [
    {
     "data": {
      "image/png": "[encoded data removed]",
      "text/plain": [
       "<Figure size 640x480 with 1 Axes>"
      ]
     },
     "metadata": {},
     "output_type": "display_data"
    }
   ],
   "source": [
    "plt.hist(hpreact.view(-1).tolist(), 50);"
   ]
  },
  {
   "attachments": {},
   "cell_type": "markdown",
   "metadata": {},
   "source": [
    "Notice that the distribution of the preactivations is very broad, the numbers range from appx -25 to 25. This is the reason we have lots of -1 and 1 after we take `tanh` of these values.\n",
    "\n",
    "### Why Is That An Issue For Backprop\n",
    "\n",
    "When we perform backpropagation we also pass through our `tanh` layer which implements an element-wise `tanh`. The backward pass on the `tanh` layer is calculated as `self.grad += (1 - t**2) * out.grad` which means when the `tanh` of a value is 1 or -1 the gradient effectively becomes 0 i.e. we are stopping the backprop in this layer. The more closer the values are to -1 and 1, the more the gradient is squashed or destroyed.\n",
    "\n",
    "Let's check how often `h` is in the flat regions of the `tanh` graph."
   ]
  },
  {
   "cell_type": "code",
   "execution_count": 102,
   "metadata": {},
   "outputs": [
    {
     "data": {
      "image/png": "[encoded data removed]",
      "text/plain": [
       "<Figure size 2000x1000 with 1 Axes>"
      ]
     },
     "metadata": {},
     "output_type": "display_data"
    }
   ],
   "source": [
    "plt.figure(figsize=(20, 10))\n",
    "plt.imshow(h.abs() > 0.99, cmap='Purples', interpolation='nearest'); # purple if true, white if false"
   ]
  },
  {
   "attachments": {},
   "cell_type": "markdown",
   "metadata": {},
   "source": [
    "We can see that all the white marked neurons are in the flat tail of the `tanh` neuron and in all these cases the backward gradient will be destroyed.\n",
    "\n",
    "**Dead Neuron**: If for any neuron in the above diagram the entire column is marked white then that neuron would be a dead neuron. That means no single example ever activates that neuron which means that neuron will never learn.\n",
    "\n",
    "We have too many activations h that take on extreme values and the tanh neuron for that value lands in the flat region. This is not optimal and we don't want this specially during initialization because it means less training for neurons as they won't activate. It's happening because our h preactivation is too broad."
   ]
  },
  {
   "attachments": {},
   "cell_type": "markdown",
   "metadata": {},
   "source": [
    "### Optimizing `hpreac`"
   ]
  },
  {
   "cell_type": "code",
   "execution_count": 103,
   "metadata": {},
   "outputs": [],
   "source": [
    "def init_params(n_embed=10, n_hidden=200, vocab_size=27, block_size=3):\n",
    "    C  = torch.randn((vocab_size, n_embed))\n",
    "    W1 = torch.randn((n_embed * block_size, n_hidden)) * 0.1\n",
    "    B1 = torch.randn(n_hidden) * 0.01\n",
    "    W2 = torch.randn((n_hidden, vocab_size)) * 0.01 \n",
    "    B2 = torch.randn(vocab_size) * 0\n",
    "\n",
    "    params = [C, W1, B1, W2, B2]\n",
    "    print(sum(p.nelement() for p in params)) \n",
    "    \n",
    "    for p in params:\n",
    "      p.requires_grad = True\n",
    "\n",
    "    return C, W1, B1, W2, B2"
   ]
  },
  {
   "attachments": {},
   "cell_type": "markdown",
   "metadata": {},
   "source": [
    "Our forward pass looks like this: \n",
    "\n",
    "```\n",
    "emb = C[Xb] \n",
    "embcat = emb.view(emb.shape[0], -1) \n",
    "hpreact = embcat @ W1 + B1 \n",
    "h = torch.tanh(hpreact) \n",
    "logits = h @ W2 + B2\n",
    "loss = F.cross_entropy(logits, Yb)\n",
    "```\n",
    "\n",
    "We want `hpreact` to have values close to 0.\n",
    "\n",
    "- So we scale down `B1` by factor of 0.01 to have a little bit of entropy at initialization.\n",
    "- Scale down `W1` by factor of 0.1"
   ]
  },
  {
   "cell_type": "code",
   "execution_count": 104,
   "metadata": {},
   "outputs": [
    {
     "name": "stdout",
     "output_type": "stream",
     "text": [
      "11897\n",
      "step       0 of       1: 3.3174\n",
      "train 3.2715229988098145\n",
      "val 3.2720887660980225\n"
     ]
    }
   ],
   "source": [
    "C, W1, B1, W2, B2 = init_params()\n",
    "lossi = []\n",
    "lossi = train(n_iters=1, lossi=lossi, lr=0.1)\n",
    "split_loss('train')\n",
    "split_loss('val')"
   ]
  },
  {
   "attachments": {},
   "cell_type": "markdown",
   "metadata": {},
   "source": [
    "Now let's take a look at the graphs."
   ]
  },
  {
   "cell_type": "code",
   "execution_count": 106,
   "metadata": {},
   "outputs": [],
   "source": [
    "ix = torch.randint(0, Xtr.shape[0], (32, ))\n",
    "Xb = Xtr[ix]\n",
    "emb = C[Xb] \n",
    "embcat = emb.view(emb.shape[0], -1) \n",
    "hpreact = embcat @ W1 + B1 \n",
    "h = torch.tanh(hpreact) "
   ]
  },
  {
   "cell_type": "code",
   "execution_count": 107,
   "metadata": {},
   "outputs": [
    {
     "data": {
      "image/png": "[encoded data removed]",
      "text/plain": [
       "<Figure size 640x480 with 1 Axes>"
      ]
     },
     "metadata": {},
     "output_type": "display_data"
    }
   ],
   "source": [
    "plt.hist(h.view(-1).tolist(), 50);"
   ]
  },
  {
   "cell_type": "code",
   "execution_count": 108,
   "metadata": {},
   "outputs": [
    {
     "data": {
      "image/png": "[encoded data removed]",
      "text/plain": [
       "<Figure size 640x480 with 1 Axes>"
      ]
     },
     "metadata": {},
     "output_type": "display_data"
    }
   ],
   "source": [
    "plt.hist(hpreact.view(-1).tolist(), 50);"
   ]
  },
  {
   "cell_type": "code",
   "execution_count": 109,
   "metadata": {},
   "outputs": [
    {
     "data": {
      "image/png": "[encoded data removed]",
      "text/plain": [
       "<Figure size 2000x1000 with 1 Axes>"
      ]
     },
     "metadata": {},
     "output_type": "display_data"
    }
   ],
   "source": [
    "plt.figure(figsize=(20, 10))\n",
    "plt.imshow(h.abs() > 0.99, cmap='Purples', interpolation='nearest'); # purple if true, white if false"
   ]
  },
  {
   "attachments": {},
   "cell_type": "markdown",
   "metadata": {},
   "source": [
    "Now we have no values of `h.abs() > 0.99` which is a good place to be. Maybe we can have a little bit of saturation:"
   ]
  },
  {
   "cell_type": "code",
   "execution_count": 110,
   "metadata": {},
   "outputs": [],
   "source": [
    "def init_params(n_embed=10, n_hidden=200, vocab_size=27, block_size=3):\n",
    "    C  = torch.randn((vocab_size, n_embed))\n",
    "    W1 = torch.randn((n_embed * block_size, n_hidden)) * 0.2\n",
    "    B1 = torch.randn(n_hidden) * 0.01\n",
    "    W2 = torch.randn((n_hidden, vocab_size)) * 0.01 \n",
    "    B2 = torch.randn(vocab_size) * 0\n",
    "\n",
    "    params = [C, W1, B1, W2, B2]\n",
    "    print(sum(p.nelement() for p in params)) \n",
    "    \n",
    "    for p in params:\n",
    "      p.requires_grad = True\n",
    "\n",
    "    return C, W1, B1, W2, B2"
   ]
  },
  {
   "cell_type": "code",
   "execution_count": 111,
   "metadata": {},
   "outputs": [
    {
     "name": "stdout",
     "output_type": "stream",
     "text": [
      "11897\n",
      "step       0 of       1: 3.2918\n"
     ]
    },
    {
     "data": {
      "image/png": "[encoded data removed]",
      "text/plain": [
       "<Figure size 2000x1000 with 1 Axes>"
      ]
     },
     "metadata": {},
     "output_type": "display_data"
    }
   ],
   "source": [
    "C, W1, B1, W2, B2 = init_params()\n",
    "lossi = []\n",
    "lossi = train(n_iters=1, lossi=lossi, lr=0.1)\n",
    "\n",
    "ix = torch.randint(0, Xtr.shape[0], (32, ))\n",
    "Xb = Xtr[ix]\n",
    "emb = C[Xb] \n",
    "embcat = emb.view(emb.shape[0], -1) \n",
    "hpreact = embcat @ W1 + B1 \n",
    "h = torch.tanh(hpreact) \n",
    "\n",
    "plt.figure(figsize=(20, 10))\n",
    "plt.imshow(h.abs() > 0.99, cmap='Purples', interpolation='nearest'); # purple if true, white if false"
   ]
  },
  {
   "attachments": {},
   "cell_type": "markdown",
   "metadata": {},
   "source": [
    "So upon running the full optimization with the new initialization we get an improved loss:"
   ]
  },
  {
   "cell_type": "code",
   "execution_count": 112,
   "metadata": {},
   "outputs": [
    {
     "name": "stdout",
     "output_type": "stream",
     "text": [
      "11897\n",
      "step       0 of  100000: 3.2945\n",
      "step   10000 of  100000: 2.4178\n",
      "step   20000 of  100000: 1.9584\n",
      "step   30000 of  100000: 2.3261\n",
      "step   40000 of  100000: 2.2434\n",
      "step   50000 of  100000: 2.4012\n",
      "step   60000 of  100000: 2.2592\n",
      "step   70000 of  100000: 1.8956\n",
      "step   80000 of  100000: 1.9153\n",
      "step   90000 of  100000: 1.8692\n",
      "train 2.1377060413360596\n",
      "val 2.207058906555176\n"
     ]
    }
   ],
   "source": [
    "C, W1, B1, W2, B2 = init_params()\n",
    "lossi = []\n",
    "lossi = train(n_iters=100_000, lossi=lossi, lr=0.1)\n",
    "split_loss('train')\n",
    "split_loss('val')"
   ]
  }
 ],
 "metadata": {
  "kernelspec": {
   "display_name": "transformers-playground",
   "language": "python",
   "name": "python3"
  },
  "language_info": {
   "codemirror_mode": {
    "name": "ipython",
    "version": 3
   },
   "file_extension": ".py",
   "mimetype": "text/x-python",
   "name": "python",
   "nbconvert_exporter": "python",
   "pygments_lexer": "ipython3",
   "version": "3.9.16"
  },
  "orig_nbformat": 4
 },
 "nbformat": 4,
 "nbformat_minor": 2
}
