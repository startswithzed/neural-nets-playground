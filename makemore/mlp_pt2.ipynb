{
 "cells": [
  {
   "cell_type": "code",
   "execution_count": 11,
   "metadata": {},
   "outputs": [],
   "source": [
    "import torch\n",
    "import torch.nn.functional as F\n",
    "import matplotlib.pyplot as plt # for making figures\n",
    "%matplotlib inline\n",
    "import random"
   ]
  },
  {
   "cell_type": "code",
   "execution_count": 12,
   "metadata": {},
   "outputs": [],
   "source": [
    "words = open('../data/names.txt', 'r').read().splitlines()"
   ]
  },
  {
   "cell_type": "code",
   "execution_count": 13,
   "metadata": {},
   "outputs": [
    {
     "name": "stdout",
     "output_type": "stream",
     "text": [
      "{1: 'a', 2: 'b', 3: 'c', 4: 'd', 5: 'e', 6: 'f', 7: 'g', 8: 'h', 9: 'i', 10: 'j', 11: 'k', 12: 'l', 13: 'm', 14: 'n', 15: 'o', 16: 'p', 17: 'q', 18: 'r', 19: 's', 20: 't', 21: 'u', 22: 'v', 23: 'w', 24: 'x', 25: 'y', 26: 'z', 0: '.'}\n",
      "27\n"
     ]
    }
   ],
   "source": [
    "# build the vocabulary of characters and mappings to/from integers\n",
    "chars = sorted(list(set(''.join(words))))\n",
    "chtoi = {ch:i+1 for i, ch in enumerate(chars)}\n",
    "chtoi['.'] = 0\n",
    "itoch = {i:ch for ch, i in chtoi.items()}\n",
    "vocab_size = len(itoch)\n",
    "print(itoch)\n",
    "print(vocab_size)"
   ]
  },
  {
   "cell_type": "code",
   "execution_count": 14,
   "metadata": {},
   "outputs": [
    {
     "name": "stdout",
     "output_type": "stream",
     "text": [
      "torch.Size([182674, 3]) torch.Size([182674])\n",
      "torch.Size([22671, 3]) torch.Size([22671])\n",
      "torch.Size([22801, 3]) torch.Size([22801])\n"
     ]
    }
   ],
   "source": [
    "# build the dataset\n",
    "block_size = 3 # context length: how many characters do we take to predict the next one\n",
    "\n",
    "def build_dataset(words):  \n",
    "  X, Y = [], []\n",
    "  \n",
    "  for w in words:\n",
    "    context = [0] * block_size\n",
    "    for ch in w + '.':\n",
    "      ix = chtoi[ch]\n",
    "      X.append(context)\n",
    "      Y.append(ix)\n",
    "      context = context[1:] + [ix] # crop and append\n",
    "\n",
    "  X = torch.tensor(X)\n",
    "  Y = torch.tensor(Y)\n",
    "  print(X.shape, Y.shape)\n",
    "  return X, Y\n",
    "\n",
    "random.shuffle(words)\n",
    "n1 = int(0.8*len(words))\n",
    "n2 = int(0.9*len(words))\n",
    "\n",
    "Xtr,  Ytr  = build_dataset(words[:n1])     # 80%\n",
    "Xval, Yval = build_dataset(words[n1:n2])   # 10%\n",
    "Xtest,  Ytest  = build_dataset(words[n2:])     # 10%"
   ]
  },
  {
   "cell_type": "code",
   "execution_count": 15,
   "metadata": {},
   "outputs": [],
   "source": [
    "def init_params(n_embed=10, n_hidden=200, vocab_size=27, block_size=3):\n",
    "    C  = torch.randn((vocab_size, n_embed))\n",
    "    W1 = torch.randn((n_embed * block_size, n_hidden))\n",
    "    B1 = torch.randn(n_hidden)\n",
    "    W2 = torch.randn((n_hidden, vocab_size)) \n",
    "    B2 = torch.randn(vocab_size)\n",
    "\n",
    "    params = [C, W1, B1, W2, B2]\n",
    "    print(sum(p.nelement() for p in params)) \n",
    "    \n",
    "    for p in params:\n",
    "      p.requires_grad = True\n",
    "\n",
    "    return C, W1, B1, W2, B2\n"
   ]
  },
  {
   "cell_type": "code",
   "execution_count": 45,
   "metadata": {},
   "outputs": [],
   "source": [
    "def train(n_iters, lr, lossi, batch_size=32):\n",
    "    for i in range(n_iters):\n",
    "        \n",
    "        # creating mini batch\n",
    "        ix = torch.randint(0, Xtr.shape[0], (batch_size, ))\n",
    "        Xb, Yb = Xtr[ix], Ytr[ix]\n",
    "\n",
    "        # forward pass\n",
    "        emb = C[Xb] # embed characters to vectors\n",
    "        embcat = emb.view(emb.shape[0], -1) #concatenate the vectors\n",
    "        hpreact = embcat @ W1 + B1 # hidden layer pre-activation \n",
    "        h = torch.tanh(hpreact) # hidden layer\n",
    "        logits = h @ W2 + B2\n",
    "        loss = F.cross_entropy(logits, Yb)\n",
    "\n",
    "        params = [C, W1, B1, W2, B2]\n",
    "\n",
    "        # backward pass\n",
    "        for p in params:\n",
    "            p.grad = None\n",
    "        loss.backward()\n",
    "\n",
    "        #update params\n",
    "        for p in params:\n",
    "            p.data += -lr * p.grad \n",
    "\n",
    "        # track stats\n",
    "        if i % 10_000 == 0: # print loss every 10k steps\n",
    "            print(f'step {i:7d} of {n_iters:7d}: {loss.item():.4f}')\n",
    "        lossi.append(loss.log10().item()) # keeping track of log10 of losses\n",
    "\n",
    "    return lossi    "
   ]
  },
  {
   "cell_type": "code",
   "execution_count": 31,
   "metadata": {},
   "outputs": [],
   "source": [
    "@torch.no_grad()\n",
    "def split_loss(split):\n",
    "    x, y = {\n",
    "        'train': (Xtr, Ytr),\n",
    "        'val': (Xval, Yval),\n",
    "        'test': (Xtest, Ytest)\n",
    "    }[split]\n",
    "\n",
    "    emb = C[x]\n",
    "    embcat = emb.view(emb.shape[0], -1)\n",
    "    h = torch.tanh(embcat @ W1 + B1)\n",
    "    logits = h @ W2 + B2\n",
    "    loss = F.cross_entropy(logits, y)\n",
    "    print(split, loss.item())"
   ]
  },
  {
   "cell_type": "code",
   "execution_count": 32,
   "metadata": {},
   "outputs": [],
   "source": [
    "def sample(n_samples=20):\n",
    "    for _ in range(20):\n",
    "        out = []\n",
    "        context = [0] * block_size # init context with all dots ...\n",
    "        while True:\n",
    "            emb = C[torch.tensor([context])] # (1, block_size, d)\n",
    "            h = torch.tanh(emb.view(1, -1) @ W1 + B1)\n",
    "            logits = h @ W2 + B2\n",
    "            probs = F.softmax(logits, dim=1)\n",
    "            ix = torch.multinomial(probs, num_samples=1).item()\n",
    "            context = context[1:] + [ix]\n",
    "            out.append(ix)\n",
    "            if ix == 0:\n",
    "                break\n",
    "\n",
    "        print(''.join(itoch[i] for i in out))    "
   ]
  },
  {
   "cell_type": "code",
   "execution_count": 46,
   "metadata": {},
   "outputs": [
    {
     "name": "stdout",
     "output_type": "stream",
     "text": [
      "11897\n"
     ]
    }
   ],
   "source": [
    "C, W1, B1, W2, B2 = init_params()"
   ]
  },
  {
   "cell_type": "code",
   "execution_count": 47,
   "metadata": {},
   "outputs": [
    {
     "name": "stdout",
     "output_type": "stream",
     "text": [
      "step       0 of   50000: 26.0871\n",
      "step   10000 of   50000: 2.7375\n",
      "step   20000 of   50000: 2.3294\n",
      "step   30000 of   50000: 2.3164\n",
      "step   40000 of   50000: 2.4084\n"
     ]
    }
   ],
   "source": [
    "lossi = []\n",
    "lossi = train(n_iters=50_000, lossi=lossi, lr=0.1)"
   ]
  },
  {
   "cell_type": "code",
   "execution_count": 48,
   "metadata": {},
   "outputs": [
    {
     "data": {
      "text/plain": [
       "[<matplotlib.lines.Line2D at 0x10443cc10>]"
      ]
     },
     "execution_count": 48,
     "metadata": {},
     "output_type": "execute_result"
    },
    {
     "data": {
      "image/png": "[encoded data removed]",
      "text/plain": [
       "<Figure size 640x480 with 1 Axes>"
      ]
     },
     "metadata": {},
     "output_type": "display_data"
    }
   ],
   "source": [
    "plt.plot(lossi)"
   ]
  }
 ],
 "metadata": {
  "kernelspec": {
   "display_name": "transformers-playground",
   "language": "python",
   "name": "python3"
  },
  "language_info": {
   "codemirror_mode": {
    "name": "ipython",
    "version": 3
   },
   "file_extension": ".py",
   "mimetype": "text/x-python",
   "name": "python",
   "nbconvert_exporter": "python",
   "pygments_lexer": "ipython3",
   "version": "3.9.16"
  },
  "orig_nbformat": 4
 },
 "nbformat": 4,
 "nbformat_minor": 2
}
