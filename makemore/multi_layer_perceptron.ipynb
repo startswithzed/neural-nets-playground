{
 "cells": [
  {
   "attachments": {},
   "cell_type": "markdown",
   "metadata": {},
   "source": [
    "# Building A Multi Layer Perceptron"
   ]
  },
  {
   "attachments": {},
   "cell_type": "markdown",
   "metadata": {},
   "source": [
    "## Building Training Dataset"
   ]
  },
  {
   "cell_type": "code",
   "execution_count": 6,
   "metadata": {},
   "outputs": [],
   "source": [
    "import torch\n",
    "import torch.nn.functional as F\n",
    "import matplotlib.pyplot as plot\n",
    "%matplotlib inline\n",
    "import random"
   ]
  },
  {
   "cell_type": "code",
   "execution_count": 7,
   "metadata": {},
   "outputs": [
    {
     "data": {
      "text/plain": [
       "['emma', 'olivia', 'ava', 'isabella', 'sophia', 'charlotte', 'mia', 'amelia']"
      ]
     },
     "execution_count": 7,
     "metadata": {},
     "output_type": "execute_result"
    }
   ],
   "source": [
    "words = open('../data/names.txt', 'r').read().splitlines()\n",
    "words[:8]"
   ]
  },
  {
   "cell_type": "code",
   "execution_count": 8,
   "metadata": {},
   "outputs": [
    {
     "data": {
      "text/plain": [
       "32033"
      ]
     },
     "execution_count": 8,
     "metadata": {},
     "output_type": "execute_result"
    }
   ],
   "source": [
    "len(words)"
   ]
  },
  {
   "cell_type": "code",
   "execution_count": 9,
   "metadata": {},
   "outputs": [
    {
     "name": "stdout",
     "output_type": "stream",
     "text": [
      "{1: 'a', 2: 'b', 3: 'c', 4: 'd', 5: 'e', 6: 'f', 7: 'g', 8: 'h', 9: 'i', 10: 'j', 11: 'k', 12: 'l', 13: 'm', 14: 'n', 15: 'o', 16: 'p', 17: 'q', 18: 'r', 19: 's', 20: 't', 21: 'u', 22: 'v', 23: 'w', 24: 'x', 25: 'y', 26: 'z', 0: '.'}\n"
     ]
    }
   ],
   "source": [
    "# build vocab and mappings\n",
    "chars = sorted(list(set(''.join(words))))\n",
    "chtoi ={ch:i+1 for i, ch in enumerate(chars)} # char to int mapping\n",
    "chtoi['.'] = 0 # add separator\n",
    "itoch = {i:ch for ch, i in chtoi.items()} # int to char mapping\n",
    "print(itoch)"
   ]
  },
  {
   "cell_type": "code",
   "execution_count": 10,
   "metadata": {},
   "outputs": [],
   "source": [
    "# building the dataset\n",
    "block_size = 3 "
   ]
  },
  {
   "attachments": {},
   "cell_type": "markdown",
   "metadata": {},
   "source": [
    "`block_size` represents the context length i.e. how many characters does the model take to predict the next one."
   ]
  },
  {
   "attachments": {},
   "cell_type": "markdown",
   "metadata": {},
   "source": [
    "### Dataset For First Three Words"
   ]
  },
  {
   "cell_type": "code",
   "execution_count": 7,
   "metadata": {},
   "outputs": [
    {
     "name": "stdout",
     "output_type": "stream",
     "text": [
      "emma\n",
      "... -> e\n",
      "..e -> m\n",
      ".em -> m\n",
      "emm -> a\n",
      "mma -> .\n",
      "olivia\n",
      "... -> o\n",
      "..o -> l\n",
      ".ol -> i\n",
      "oli -> v\n",
      "liv -> i\n",
      "ivi -> a\n",
      "via -> .\n",
      "ava\n",
      "... -> a\n",
      "..a -> v\n",
      ".av -> a\n",
      "ava -> .\n"
     ]
    }
   ],
   "source": [
    "X, Y = [], []\n",
    "\n",
    "for w in words[:3]:\n",
    "    print(w)\n",
    "    context = [0] * block_size ## start with padded context of 0s\n",
    "    for ch in w + '.':\n",
    "        ix = chtoi[ch]\n",
    "        X.append(context)\n",
    "        Y.append(ix)\n",
    "        print(''.join(itoch[i] for i in context), '->', itoch[ix])\n",
    "        context = context[1:] + [ix] # update the context window by removing first element and adding ix at the end"
   ]
  },
  {
   "cell_type": "code",
   "execution_count": 8,
   "metadata": {},
   "outputs": [
    {
     "name": "stdout",
     "output_type": "stream",
     "text": [
      "inputs:\n",
      "[[0, 0, 0], [0, 0, 5], [0, 5, 13], [5, 13, 13], [13, 13, 1], [0, 0, 0], [0, 0, 15], [0, 15, 12], [15, 12, 9], [12, 9, 22], [9, 22, 9], [22, 9, 1], [0, 0, 0], [0, 0, 1], [0, 1, 22], [1, 22, 1]]\n",
      "\n",
      "targets:\n",
      "[5, 13, 13, 1, 0, 15, 12, 9, 22, 9, 1, 0, 1, 22, 1, 0]\n",
      "\n"
     ]
    }
   ],
   "source": [
    "print(f'inputs:\\n{X}\\n')\n",
    "print(f'targets:\\n{Y}\\n')"
   ]
  },
  {
   "cell_type": "code",
   "execution_count": 9,
   "metadata": {},
   "outputs": [],
   "source": [
    "X = torch.tensor(X)\n",
    "Y = torch.tensor(Y)"
   ]
  },
  {
   "attachments": {},
   "cell_type": "markdown",
   "metadata": {},
   "source": [
    "Notice that out of the word \"emma\" we can generate 5 different example for inputs and targets."
   ]
  },
  {
   "cell_type": "code",
   "execution_count": 10,
   "metadata": {},
   "outputs": [
    {
     "data": {
      "text/plain": [
       "(torch.Size([16, 3]), torch.int64, torch.Size([16]), torch.int64)"
      ]
     },
     "execution_count": 10,
     "metadata": {},
     "output_type": "execute_result"
    }
   ],
   "source": [
    "X.shape, X.dtype, Y.shape, Y.dtype"
   ]
  },
  {
   "attachments": {},
   "cell_type": "markdown",
   "metadata": {},
   "source": [
    "### Complete Dataset"
   ]
  },
  {
   "cell_type": "code",
   "execution_count": 11,
   "metadata": {},
   "outputs": [
    {
     "data": {
      "text/plain": [
       "(torch.Size([228146, 3]), torch.Size([228146]))"
      ]
     },
     "execution_count": 11,
     "metadata": {},
     "output_type": "execute_result"
    }
   ],
   "source": [
    "X, Y = [], []\n",
    "\n",
    "for w in words:\n",
    "    context = [0] * block_size\n",
    "    for ch in w + '.':\n",
    "        ix = chtoi[ch]\n",
    "        X.append(context)\n",
    "        Y.append(ix)\n",
    "        context = context[1:] + [ix]\n",
    "\n",
    "X = torch.tensor(X)\n",
    "Y = torch.tensor(Y) \n",
    "\n",
    "X.shape, Y.shape"
   ]
  },
  {
   "cell_type": "markdown",
   "metadata": {},
   "source": [
    "## Building The Embedding Table"
   ]
  },
  {
   "attachments": {},
   "cell_type": "markdown",
   "metadata": {},
   "source": [
    "Let's create an embedding table for characters in which each character has a `2D` embedding. "
   ]
  },
  {
   "cell_type": "code",
   "execution_count": 12,
   "metadata": {},
   "outputs": [
    {
     "data": {
      "text/plain": [
       "tensor([[-0.8906, -0.5311],\n",
       "        [-0.7126,  0.6650],\n",
       "        [-3.0509, -1.3005],\n",
       "        [ 1.2423, -0.0122],\n",
       "        [-1.2658, -0.3378],\n",
       "        [ 0.3598, -1.5086],\n",
       "        [ 1.5201,  0.9473],\n",
       "        [-1.0241, -1.7311],\n",
       "        [-0.0567,  1.4352],\n",
       "        [ 0.2790,  0.3943],\n",
       "        [ 1.0450,  0.8230],\n",
       "        [ 0.6546, -1.3727],\n",
       "        [-0.6181, -1.3810],\n",
       "        [-0.0454,  0.9800],\n",
       "        [-0.2716, -0.8130],\n",
       "        [-0.2330,  0.1650],\n",
       "        [ 0.9192, -1.1316],\n",
       "        [-0.4429,  0.7039],\n",
       "        [-1.3019,  1.0048],\n",
       "        [-0.1629, -0.5099],\n",
       "        [ 0.5418, -0.5218],\n",
       "        [ 0.4291,  1.1844],\n",
       "        [-0.2834,  0.0334],\n",
       "        [-0.3032, -1.1619],\n",
       "        [-0.0396,  0.8266],\n",
       "        [ 0.4836,  0.8985],\n",
       "        [-0.1452, -0.7643]])"
      ]
     },
     "execution_count": 12,
     "metadata": {},
     "output_type": "execute_result"
    }
   ],
   "source": [
    "C = torch.randn((27, 2)) # creating a 2D vector space for a 27 token vocab size\n",
    "C "
   ]
  },
  {
   "attachments": {},
   "cell_type": "markdown",
   "metadata": {},
   "source": [
    "Embedding for the integer 5 in the embedding lookup table is:"
   ]
  },
  {
   "cell_type": "code",
   "execution_count": 13,
   "metadata": {},
   "outputs": [
    {
     "data": {
      "text/plain": [
       "tensor([ 0.3598, -1.5086])"
      ]
     },
     "execution_count": 13,
     "metadata": {},
     "output_type": "execute_result"
    }
   ],
   "source": [
    "C[5] # row corresponsding to index 5 in the embedding table"
   ]
  },
  {
   "attachments": {},
   "cell_type": "markdown",
   "metadata": {},
   "source": [
    "Earlier(for Single Layer Bigram) we used `one-hot` vector encoding which looked like this:"
   ]
  },
  {
   "cell_type": "code",
   "execution_count": 14,
   "metadata": {},
   "outputs": [
    {
     "data": {
      "text/plain": [
       "tensor([0, 0, 0, 0, 0, 1, 0, 0, 0, 0, 0, 0, 0, 0, 0, 0, 0, 0, 0, 0, 0, 0, 0, 0,\n",
       "        0, 0, 0])"
      ]
     },
     "execution_count": 14,
     "metadata": {},
     "output_type": "execute_result"
    }
   ],
   "source": [
    "F.one_hot(torch.tensor(5), num_classes=27) # encoding integer 5 to a vector"
   ]
  },
  {
   "cell_type": "code",
   "execution_count": 15,
   "metadata": {},
   "outputs": [
    {
     "data": {
      "text/plain": [
       "torch.Size([27])"
      ]
     },
     "execution_count": 15,
     "metadata": {},
     "output_type": "execute_result"
    }
   ],
   "source": [
    "F.one_hot(torch.tensor(5), num_classes=27).shape"
   ]
  },
  {
   "attachments": {},
   "cell_type": "markdown",
   "metadata": {},
   "source": [
    "When we matmul our 1 dim `one-hot` vector for the integer 5 with our 2D embedding table we get the same value because all the 0s in the `one-hot` matrix nullify all the other rows of `C` and only keep the row corresponding to index 5."
   ]
  },
  {
   "cell_type": "code",
   "execution_count": 16,
   "metadata": {},
   "outputs": [
    {
     "data": {
      "text/plain": [
       "tensor([ 0.3598, -1.5086])"
      ]
     },
     "execution_count": 16,
     "metadata": {},
     "output_type": "execute_result"
    }
   ],
   "source": [
    "F.one_hot(torch.tensor(5), num_classes=27).float() @ C"
   ]
  },
  {
   "attachments": {},
   "cell_type": "markdown",
   "metadata": {},
   "source": [
    "So the embedding of an integer can either be seen as the integer indexing into a lookup table C or it can be seen as the first layer of the larger NN (`x @ w` operation b/w `one_hot` vectors and weights matrix `C`). The neurons in this layer have no non-linearity and their weight matrix is C. We are encoding ints in one-hot and then feeding them to this layer."
   ]
  },
  {
   "attachments": {},
   "cell_type": "markdown",
   "metadata": {},
   "source": [
    "### Getting Embeddings Of Multiple Integers\n",
    "\n",
    "We pass a list of indices to get the corresponding rows from a tensor."
   ]
  },
  {
   "cell_type": "code",
   "execution_count": 17,
   "metadata": {},
   "outputs": [
    {
     "data": {
      "text/plain": [
       "tensor([[ 0.3598, -1.5086],\n",
       "        [ 1.5201,  0.9473],\n",
       "        [-1.0241, -1.7311]])"
      ]
     },
     "execution_count": 17,
     "metadata": {},
     "output_type": "execute_result"
    }
   ],
   "source": [
    "C[[5, 6, 7]]"
   ]
  },
  {
   "cell_type": "code",
   "execution_count": 18,
   "metadata": {},
   "outputs": [
    {
     "data": {
      "text/plain": [
       "tensor([[ 0.3598, -1.5086],\n",
       "        [ 1.5201,  0.9473],\n",
       "        [-1.0241, -1.7311]])"
      ]
     },
     "execution_count": 18,
     "metadata": {},
     "output_type": "execute_result"
    }
   ],
   "source": [
    "C[torch.tensor([5, 6, 7])]"
   ]
  },
  {
   "attachments": {},
   "cell_type": "markdown",
   "metadata": {},
   "source": [
    "We can get the embeddings for our inputs by indexing with our inputs tensor `X` using multi dim indexing."
   ]
  },
  {
   "cell_type": "code",
   "execution_count": 19,
   "metadata": {},
   "outputs": [
    {
     "data": {
      "text/plain": [
       "tensor([[[-0.8906, -0.5311],\n",
       "         [-0.8906, -0.5311],\n",
       "         [-0.8906, -0.5311]],\n",
       "\n",
       "        [[-0.8906, -0.5311],\n",
       "         [-0.8906, -0.5311],\n",
       "         [ 0.3598, -1.5086]],\n",
       "\n",
       "        [[-0.8906, -0.5311],\n",
       "         [ 0.3598, -1.5086],\n",
       "         [-0.0454,  0.9800]]])"
      ]
     },
     "execution_count": 19,
     "metadata": {},
     "output_type": "execute_result"
    }
   ],
   "source": [
    "C[X][:3] # embeddings for first three inputs"
   ]
  },
  {
   "attachments": {},
   "cell_type": "markdown",
   "metadata": {},
   "source": [
    "Now we have vector embeddings for our inputs X."
   ]
  },
  {
   "cell_type": "code",
   "execution_count": 20,
   "metadata": {},
   "outputs": [
    {
     "data": {
      "text/plain": [
       "torch.Size([228146, 3])"
      ]
     },
     "execution_count": 20,
     "metadata": {},
     "output_type": "execute_result"
    }
   ],
   "source": [
    "X.shape"
   ]
  },
  {
   "cell_type": "code",
   "execution_count": 21,
   "metadata": {},
   "outputs": [
    {
     "data": {
      "text/plain": [
       "torch.Size([228146, 3, 2])"
      ]
     },
     "execution_count": 21,
     "metadata": {},
     "output_type": "execute_result"
    }
   ],
   "source": [
    "C[X].shape # for everyone of the vectors in X we have a 2D embedding"
   ]
  },
  {
   "cell_type": "code",
   "execution_count": 22,
   "metadata": {},
   "outputs": [
    {
     "name": "stdout",
     "output_type": "stream",
     "text": [
      "tensor(1)\n",
      "tensor([-0.7126,  0.6650])\n",
      "tensor([-0.7126,  0.6650])\n"
     ]
    }
   ],
   "source": [
    "# example \n",
    "print(X[13, 2])\n",
    "print(C[X][13, 2])\n",
    "print(C[1])"
   ]
  },
  {
   "cell_type": "code",
   "execution_count": 23,
   "metadata": {},
   "outputs": [
    {
     "data": {
      "text/plain": [
       "torch.Size([228146, 3, 2])"
      ]
     },
     "execution_count": 23,
     "metadata": {},
     "output_type": "execute_result"
    }
   ],
   "source": [
    "# so embedding all ints\n",
    "emb = C[X]\n",
    "emb.shape"
   ]
  },
  {
   "attachments": {},
   "cell_type": "markdown",
   "metadata": {},
   "source": [
    "## Implementing The Hidden Layer\n",
    "\n",
    "According to the paper we have 3 inputs of 2 dims (in our case) so the number of inputs for this layer is 6. Let's take the number of neurons in this layer to be 100 (upto us)."
   ]
  },
  {
   "cell_type": "code",
   "execution_count": 24,
   "metadata": {},
   "outputs": [],
   "source": [
    "W1 = torch.randn((6, 100)) # weights\n",
    "B1 = torch.randn(100) # biases"
   ]
  },
  {
   "attachments": {},
   "cell_type": "markdown",
   "metadata": {},
   "source": [
    "We want to do the operation `emb @ W + b` but the embeddings are stacked in the input tensor so matmul will not work. So we need to concatenate these inputs together."
   ]
  },
  {
   "cell_type": "code",
   "execution_count": 25,
   "metadata": {},
   "outputs": [
    {
     "data": {
      "text/plain": [
       "torch.Size([228146, 2])"
      ]
     },
     "execution_count": 25,
     "metadata": {},
     "output_type": "execute_result"
    }
   ],
   "source": [
    "emb[:, 0, :].shape # get everything at the 0 index"
   ]
  },
  {
   "cell_type": "code",
   "execution_count": 26,
   "metadata": {},
   "outputs": [
    {
     "data": {
      "text/plain": [
       "torch.Size([228146, 6])"
      ]
     },
     "execution_count": 26,
     "metadata": {},
     "output_type": "execute_result"
    }
   ],
   "source": [
    "torch.cat([emb[:, 0, :], emb[:, 1, :], emb[:, 2, :]], 1).shape # concatenate the seq across dim 1"
   ]
  },
  {
   "cell_type": "code",
   "execution_count": 27,
   "metadata": {},
   "outputs": [
    {
     "data": {
      "text/plain": [
       "3"
      ]
     },
     "execution_count": 27,
     "metadata": {},
     "output_type": "execute_result"
    }
   ],
   "source": [
    "# to generalize the above operation\n",
    "len(torch.unbind(emb, 1)) # list of tensors as in the above operation"
   ]
  },
  {
   "cell_type": "code",
   "execution_count": 28,
   "metadata": {},
   "outputs": [
    {
     "data": {
      "text/plain": [
       "torch.Size([228146, 6])"
      ]
     },
     "execution_count": 28,
     "metadata": {},
     "output_type": "execute_result"
    }
   ],
   "source": [
    "# so now we can do the general operation\n",
    "torch.cat(torch.unbind(emb, 1), 1).shape"
   ]
  },
  {
   "attachments": {},
   "cell_type": "markdown",
   "metadata": {},
   "source": [
    "Turns out there is an even better way of doing this."
   ]
  },
  {
   "cell_type": "code",
   "execution_count": 29,
   "metadata": {},
   "outputs": [
    {
     "data": {
      "text/plain": [
       "tensor([ 0,  1,  2,  3,  4,  5,  6,  7,  8,  9, 10, 11, 12, 13, 14, 15, 16, 17])"
      ]
     },
     "execution_count": 29,
     "metadata": {},
     "output_type": "execute_result"
    }
   ],
   "source": [
    "example = torch.arange(18)\n",
    "example"
   ]
  },
  {
   "cell_type": "code",
   "execution_count": 30,
   "metadata": {},
   "outputs": [
    {
     "data": {
      "text/plain": [
       "tensor([[ 0,  1,  2,  3,  4,  5,  6,  7,  8],\n",
       "        [ 9, 10, 11, 12, 13, 14, 15, 16, 17]])"
      ]
     },
     "execution_count": 30,
     "metadata": {},
     "output_type": "execute_result"
    }
   ],
   "source": [
    "# we can represent example tensor in different sized n dim tensors\n",
    "example.view(2, 9)"
   ]
  },
  {
   "cell_type": "code",
   "execution_count": 31,
   "metadata": {},
   "outputs": [
    {
     "data": {
      "text/plain": [
       "tensor([[[ 0,  1],\n",
       "         [ 2,  3],\n",
       "         [ 4,  5]],\n",
       "\n",
       "        [[ 6,  7],\n",
       "         [ 8,  9],\n",
       "         [10, 11]],\n",
       "\n",
       "        [[12, 13],\n",
       "         [14, 15],\n",
       "         [16, 17]]])"
      ]
     },
     "execution_count": 31,
     "metadata": {},
     "output_type": "execute_result"
    }
   ],
   "source": [
    "example.view(3, 3, 2) # product of dim numbers should be the same"
   ]
  },
  {
   "attachments": {},
   "cell_type": "markdown",
   "metadata": {},
   "source": [
    "In pytorch `.view` operation is extremely efficient because a tensor is stored as a 1D sequence of bytes in memory and the attributes of the tensor add the dimesionality to it. When we call `.view` we only modify these attributes but the underlying tensor remains the same in memory."
   ]
  },
  {
   "cell_type": "code",
   "execution_count": 32,
   "metadata": {},
   "outputs": [
    {
     "data": {
      "text/plain": [
       "torch.Size([228146, 3, 2])"
      ]
     },
     "execution_count": 32,
     "metadata": {},
     "output_type": "execute_result"
    }
   ],
   "source": [
    "emb.shape"
   ]
  },
  {
   "cell_type": "code",
   "execution_count": 35,
   "metadata": {},
   "outputs": [
    {
     "data": {
      "text/plain": [
       "tensor([[-0.8906, -0.5311, -0.8906, -0.5311, -0.8906, -0.5311],\n",
       "        [-0.8906, -0.5311, -0.8906, -0.5311,  0.3598, -1.5086],\n",
       "        [-0.8906, -0.5311,  0.3598, -1.5086, -0.0454,  0.9800],\n",
       "        [ 0.3598, -1.5086, -0.0454,  0.9800, -0.0454,  0.9800],\n",
       "        [-0.0454,  0.9800, -0.0454,  0.9800, -0.7126,  0.6650]])"
      ]
     },
     "execution_count": 35,
     "metadata": {},
     "output_type": "execute_result"
    }
   ],
   "source": [
    "emb.view(228146, 6)[:5] # embeddings for the input name \".emma\""
   ]
  },
  {
   "attachments": {},
   "cell_type": "markdown",
   "metadata": {},
   "source": [
    "So we can get the hidden states of the hidden layer by:"
   ]
  },
  {
   "cell_type": "code",
   "execution_count": 36,
   "metadata": {},
   "outputs": [],
   "source": [
    "h = emb.view(228146, 6) @ W1 + B1"
   ]
  },
  {
   "cell_type": "code",
   "execution_count": 37,
   "metadata": {},
   "outputs": [
    {
     "data": {
      "text/plain": [
       "torch.Size([228146, 100])"
      ]
     },
     "execution_count": 37,
     "metadata": {},
     "output_type": "execute_result"
    }
   ],
   "source": [
    "h.shape"
   ]
  },
  {
   "attachments": {},
   "cell_type": "markdown",
   "metadata": {},
   "source": [
    "### General Code For Setting Dimensionality Using Pytorch\n",
    "\n",
    "We're hardcoding input's first dimension when we have already set dimensions of `W1` and `B1` so we can let pytorch figure out the first dimension of `emb` to successfully be able to perform matmul."
   ]
  },
  {
   "cell_type": "code",
   "execution_count": 38,
   "metadata": {},
   "outputs": [],
   "source": [
    "h = emb.view(-1, 6) @ W1 + B1 # -1 means pytorch can derive the appropriate dim"
   ]
  },
  {
   "cell_type": "code",
   "execution_count": 40,
   "metadata": {},
   "outputs": [
    {
     "data": {
      "text/plain": [
       "tensor([[ 0.2917,  1.1343, -1.5236, -2.1991, -0.6053,  0.1723, -2.1450, -3.8016,\n",
       "         -0.2815,  0.2332, -5.0328,  1.9211, -1.8904,  4.6935,  1.1572,  2.6128,\n",
       "         -2.4376,  1.2075,  0.2817, -0.8792,  0.6104,  0.6143,  1.0821,  1.6762,\n",
       "          4.1587,  0.6786, -2.4657, -0.2951,  0.9624,  0.0517, -1.6315, -1.7829,\n",
       "          1.9271, -1.6821,  4.3422,  0.4588,  0.4027, -5.5650, -0.6370, -1.3417,\n",
       "         -1.2320,  1.0972, -4.2203, -2.2822,  0.1054,  1.2738, -3.9300, -2.7390,\n",
       "         -0.2819, -1.9265, -0.7673,  3.3669, -2.0746, -1.9005,  0.3209, -1.4106,\n",
       "          1.6125,  0.2961,  1.1174, -0.1609, -0.0729, -0.9407,  0.0643, -0.6233,\n",
       "         -0.5157, -2.5226, -3.9342, -5.0516,  2.8137, -0.1331,  0.0928, -0.3633,\n",
       "          1.0949,  1.3988,  0.8421, -3.0594,  2.0840, -0.4273, -2.5538,  2.0100,\n",
       "         -1.7992, -1.5457,  1.9365,  2.4921, -1.1624,  1.5766,  1.3385, -0.7364,\n",
       "          0.1856, -1.6967, -0.8301,  1.4838, -1.6395,  1.3107,  1.2011,  2.7978,\n",
       "          1.3117,  4.0193, -3.1359, -1.9171]])"
      ]
     },
     "execution_count": 40,
     "metadata": {},
     "output_type": "execute_result"
    }
   ],
   "source": [
    "h[:1] # first row of logits"
   ]
  },
  {
   "attachments": {},
   "cell_type": "markdown",
   "metadata": {},
   "source": [
    "So now we perform a `tanh` (from the paper) to get the 100 dimensional activations of all of our 16 examples."
   ]
  },
  {
   "cell_type": "code",
   "execution_count": 42,
   "metadata": {},
   "outputs": [],
   "source": [
    "h = torch.tanh(emb.view(-1, 6) @ W1 + B1)"
   ]
  },
  {
   "cell_type": "code",
   "execution_count": 43,
   "metadata": {},
   "outputs": [
    {
     "data": {
      "text/plain": [
       "tensor([[ 0.2837,  0.8125, -0.9093, -0.9757, -0.5408,  0.1706, -0.9730, -0.9990,\n",
       "         -0.2743,  0.2290, -0.9999,  0.9580, -0.9554,  0.9998,  0.8201,  0.9893,\n",
       "         -0.9848,  0.8359,  0.2745, -0.7060,  0.5444,  0.5471,  0.7940,  0.9324,\n",
       "          0.9995,  0.5906, -0.9857, -0.2869,  0.7454,  0.0516, -0.9263, -0.9450,\n",
       "          0.9585, -0.9331,  0.9997,  0.4291,  0.3823, -1.0000, -0.5628, -0.8721,\n",
       "         -0.8432,  0.7995, -0.9996, -0.9794,  0.1050,  0.8548, -0.9992, -0.9917,\n",
       "         -0.2746, -0.9584, -0.6454,  0.9976, -0.9689, -0.9563,  0.3103, -0.8876,\n",
       "          0.9235,  0.2878,  0.8067, -0.1596, -0.0728, -0.7355,  0.0642, -0.5534,\n",
       "         -0.4744, -0.9872, -0.9992, -0.9999,  0.9928, -0.1323,  0.0925, -0.3481,\n",
       "          0.7987,  0.8851,  0.6869, -0.9956,  0.9695, -0.4031, -0.9880,  0.9647,\n",
       "         -0.9467, -0.9131,  0.9593,  0.9864, -0.8218,  0.9181,  0.8713, -0.6270,\n",
       "          0.1835, -0.9350, -0.6805,  0.9022, -0.9274,  0.8645,  0.8340,  0.9926,\n",
       "          0.8647,  0.9994, -0.9962, -0.9577]])"
      ]
     },
     "execution_count": 43,
     "metadata": {},
     "output_type": "execute_result"
    }
   ],
   "source": [
    "h[:1] # first row after non linearity"
   ]
  },
  {
   "attachments": {},
   "cell_type": "markdown",
   "metadata": {},
   "source": [
    "## Implementing The Output Layer"
   ]
  },
  {
   "cell_type": "code",
   "execution_count": 44,
   "metadata": {},
   "outputs": [],
   "source": [
    "W2 = torch.randn((100, 27)) # input is 100 and output number of neurons is 27 for our vocab size\n",
    "B2 = torch.randn(27)"
   ]
  },
  {
   "cell_type": "code",
   "execution_count": 45,
   "metadata": {},
   "outputs": [],
   "source": [
    "logits = h @ W2 + B2"
   ]
  },
  {
   "cell_type": "code",
   "execution_count": 46,
   "metadata": {},
   "outputs": [
    {
     "data": {
      "text/plain": [
       "torch.Size([228146, 27])"
      ]
     },
     "execution_count": 46,
     "metadata": {},
     "output_type": "execute_result"
    }
   ],
   "source": [
    "logits.shape"
   ]
  },
  {
   "cell_type": "code",
   "execution_count": 47,
   "metadata": {},
   "outputs": [
    {
     "data": {
      "text/plain": [
       "torch.Size([228146, 27])"
      ]
     },
     "execution_count": 47,
     "metadata": {},
     "output_type": "execute_result"
    }
   ],
   "source": [
    "# getting prob dist from logits\n",
    "counts = logits.exp()\n",
    "probs = counts / counts.sum(1, keepdims=True)\n",
    "probs.shape"
   ]
  },
  {
   "cell_type": "code",
   "execution_count": 48,
   "metadata": {},
   "outputs": [
    {
     "data": {
      "text/plain": [
       "tensor([6.7285e-13, 8.5982e-12, 1.6140e-13, 1.1861e-10, 5.1992e-04, 9.0563e-05,\n",
       "        1.2039e-13, 1.6621e-13, 6.7405e-06, 4.4342e-09, 2.0104e-07, 3.9948e-17,\n",
       "        6.7446e-03, 1.0043e-14, 3.6358e-12, 1.5328e-04, 3.8162e-07, 8.6800e-05,\n",
       "        1.2762e-09, 4.1578e-04, 5.3438e-12, 1.6612e-08, 1.0702e-14, 4.8616e-12,\n",
       "        1.9638e-14, 8.8782e-10, 9.9198e-01])"
      ]
     },
     "execution_count": 48,
     "metadata": {},
     "output_type": "execute_result"
    }
   ],
   "source": [
    "probs[0]"
   ]
  },
  {
   "cell_type": "code",
   "execution_count": 49,
   "metadata": {},
   "outputs": [
    {
     "data": {
      "text/plain": [
       "tensor(1.)"
      ]
     },
     "execution_count": 49,
     "metadata": {},
     "output_type": "execute_result"
    }
   ],
   "source": [
    "probs[0].sum()"
   ]
  },
  {
   "attachments": {},
   "cell_type": "markdown",
   "metadata": {},
   "source": [
    "## Loss Function"
   ]
  },
  {
   "cell_type": "code",
   "execution_count": 51,
   "metadata": {},
   "outputs": [
    {
     "data": {
      "text/plain": [
       "tensor([9.0563e-05, 9.2399e-16, 3.8735e-13,  ..., 6.3657e-06, 5.7874e-03,\n",
       "        3.6027e-10])"
      ]
     },
     "execution_count": 51,
     "metadata": {},
     "output_type": "execute_result"
    }
   ],
   "source": [
    "# iterate through the rows of probs\n",
    "probs[torch.arange(228146), Y] # probs assigned by this NN to the correct character in the seq"
   ]
  },
  {
   "cell_type": "code",
   "execution_count": 53,
   "metadata": {},
   "outputs": [
    {
     "data": {
      "text/plain": [
       "tensor(18.8843)"
      ]
     },
     "execution_count": 53,
     "metadata": {},
     "output_type": "execute_result"
    }
   ],
   "source": [
    "nlll = - probs[torch.arange(228146), Y].log().mean() # negative log likelihood loss\n",
    "nlll"
   ]
  },
  {
   "attachments": {},
   "cell_type": "markdown",
   "metadata": {},
   "source": [
    "## Cross Entropy As Loss\n",
    "\n",
    "When we use `F.cross_entropy` pytorch doesn't create the intermediate tensors and evaluates all these operations in a very efficient manner. The expressions also take a much simpler form mathematically which makes it easier to perform a backward pass."
   ]
  },
  {
   "cell_type": "code",
   "execution_count": 54,
   "metadata": {},
   "outputs": [
    {
     "data": {
      "text/plain": [
       "tensor(18.8843)"
      ]
     },
     "execution_count": 54,
     "metadata": {},
     "output_type": "execute_result"
    }
   ],
   "source": [
    "loss = F.cross_entropy(logits, Y)\n",
    "loss"
   ]
  },
  {
   "attachments": {},
   "cell_type": "markdown",
   "metadata": {},
   "source": [
    "### Why Is It Better?"
   ]
  },
  {
   "cell_type": "code",
   "execution_count": null,
   "metadata": {},
   "outputs": [
    {
     "data": {
      "text/plain": [
       "tensor([9.0466e-04, 3.3281e-04, 6.6846e-03, 9.9208e-01])"
      ]
     },
     "execution_count": 51,
     "metadata": {},
     "output_type": "execute_result"
    }
   ],
   "source": [
    "# example of when cross_entropy is better than the other version\n",
    "logits = torch.tensor([-2, -3, 0, 5])\n",
    "counts = logits.exp()\n",
    "probs = counts / counts.sum()\n",
    "probs"
   ]
  },
  {
   "cell_type": "code",
   "execution_count": null,
   "metadata": {},
   "outputs": [
    {
     "data": {
      "text/plain": [
       "tensor([0., 0., 0., nan])"
      ]
     },
     "execution_count": 52,
     "metadata": {},
     "output_type": "execute_result"
    }
   ],
   "source": [
    "# lets try that again but with one of the logits being a large value\n",
    "logits = torch.tensor([-2, -3, 0, 100])\n",
    "counts = logits.exp()\n",
    "probs = counts / counts.sum()\n",
    "probs"
   ]
  },
  {
   "cell_type": "code",
   "execution_count": null,
   "metadata": {},
   "outputs": [
    {
     "data": {
      "text/plain": [
       "tensor([0.1353, 0.0498, 1.0000,    inf])"
      ]
     },
     "execution_count": 53,
     "metadata": {},
     "output_type": "execute_result"
    }
   ],
   "source": [
    "counts"
   ]
  },
  {
   "attachments": {},
   "cell_type": "markdown",
   "metadata": {},
   "source": [
    "If we pass a very positive number as logit, we run out of range for floating point number and it gets rounded off as `inf` which leads to `nan`."
   ]
  },
  {
   "attachments": {},
   "cell_type": "markdown",
   "metadata": {},
   "source": [
    "## Training Loop"
   ]
  },
  {
   "cell_type": "code",
   "execution_count": 59,
   "metadata": {},
   "outputs": [],
   "source": [
    "C = torch.randn((27, 2))\n",
    "W1 = torch.randn((6, 100))\n",
    "B1 = torch.randn(100)\n",
    "W2 = torch.randn((100, 27))\n",
    "B2 = torch.randn(27)\n",
    "parameters = [C, W1, B1, W2, B2]"
   ]
  },
  {
   "cell_type": "code",
   "execution_count": 60,
   "metadata": {},
   "outputs": [
    {
     "data": {
      "text/plain": [
       "3481"
      ]
     },
     "execution_count": 60,
     "metadata": {},
     "output_type": "execute_result"
    }
   ],
   "source": [
    "sum(p.nelement() for p in parameters)"
   ]
  },
  {
   "cell_type": "code",
   "execution_count": 61,
   "metadata": {},
   "outputs": [],
   "source": [
    "for p in parameters:\n",
    "    p.requires_grad = True"
   ]
  },
  {
   "cell_type": "code",
   "execution_count": 62,
   "metadata": {},
   "outputs": [
    {
     "name": "stdout",
     "output_type": "stream",
     "text": [
      "16.690427780151367\n",
      "15.810751914978027\n",
      "15.034162521362305\n",
      "14.460734367370605\n",
      "13.929698944091797\n",
      "13.432076454162598\n",
      "12.966328620910645\n",
      "12.53366470336914\n",
      "12.135788917541504\n",
      "11.771121978759766\n"
     ]
    }
   ],
   "source": [
    "for _ in range(10):\n",
    "    # forward pass\n",
    "    emb = C[X]\n",
    "    h = torch.tanh(emb.view(-1, 6) @ W1 + B1)\n",
    "    logits = h @ W2 + B2\n",
    "    loss = F.cross_entropy(logits, Y)\n",
    "    print(loss.item())\n",
    "\n",
    "    # backward pass\n",
    "    for p in parameters:\n",
    "        p.grad = None\n",
    "    loss.backward()\n",
    "\n",
    "    #update\n",
    "    for p in parameters:\n",
    "        p.data += -0.1 *p.grad"
   ]
  },
  {
   "attachments": {},
   "cell_type": "markdown",
   "metadata": {},
   "source": [
    "## Training Using Mini Batches"
   ]
  },
  {
   "attachments": {},
   "cell_type": "markdown",
   "metadata": {},
   "source": [
    "### Generating random indices for sampling from our input"
   ]
  },
  {
   "cell_type": "code",
   "execution_count": null,
   "metadata": {},
   "outputs": [
    {
     "data": {
      "text/plain": [
       "tensor([2, 0, 3, 1, 1, 3, 3, 1, 2, 3, 4, 3, 4, 1, 2, 0, 0, 0, 4, 4, 1, 2, 4, 2,\n",
       "        2, 4, 4, 3, 2, 1, 4, 2])"
      ]
     },
     "execution_count": 71,
     "metadata": {},
     "output_type": "execute_result"
    }
   ],
   "source": [
    "# generate 32 numbers b/w 0 and 5\n",
    "torch.randint(0, 5, (32, ))"
   ]
  },
  {
   "cell_type": "code",
   "execution_count": null,
   "metadata": {},
   "outputs": [
    {
     "data": {
      "text/plain": [
       "tensor([192243,  52594, 109420, 153200, 141591,  98267,   3361, 188364, 125425,\n",
       "        138160,   4298, 120692,  94276,  68859, 177697, 146915,  92682,  49447,\n",
       "        115655,  81626, 133559,  80606,  60174,  85853, 194280, 202666, 133599,\n",
       "        177270, 139566, 175848,  87711, 198502])"
      ]
     },
     "execution_count": 72,
     "metadata": {},
     "output_type": "execute_result"
    }
   ],
   "source": [
    "torch.randint(0, X.shape[0], (32, )) # integers that can index into our dataset"
   ]
  },
  {
   "attachments": {},
   "cell_type": "markdown",
   "metadata": {},
   "source": [
    "These are the row indicies we can use to pick random samples of input for our batches. Here we choose 32 random indices so our `batch_size`=32."
   ]
  },
  {
   "cell_type": "code",
   "execution_count": 81,
   "metadata": {},
   "outputs": [
    {
     "name": "stdout",
     "output_type": "stream",
     "text": [
      "2.646817922592163\n"
     ]
    }
   ],
   "source": [
    "batch_size = 32\n",
    "\n",
    "for _ in range(1000):\n",
    "    # creating mini batch\n",
    "    ix = torch.randint(0, X.shape[0], (batch_size, ))\n",
    "\n",
    "    # forward pass\n",
    "    emb = C[X[ix]] # only get num=batch_size rows of X\n",
    "    h = torch.tanh(emb.view(-1, 6) @ W1 + B1)\n",
    "    logits = h @ W2 + B2\n",
    "    loss = F.cross_entropy(logits, Y[ix])\n",
    "\n",
    "    # backward pass\n",
    "    for p in parameters:\n",
    "        p.grad = None\n",
    "    loss.backward()\n",
    "\n",
    "    #update\n",
    "    for p in parameters:\n",
    "        p.data += -0.1 *p.grad\n",
    "\n",
    "print(loss.item()) "
   ]
  },
  {
   "cell_type": "code",
   "execution_count": 64,
   "metadata": {},
   "outputs": [
    {
     "data": {
      "text/plain": [
       "2.7139594554901123"
      ]
     },
     "execution_count": 64,
     "metadata": {},
     "output_type": "execute_result"
    }
   ],
   "source": [
    "emb = C[X] \n",
    "h = torch.tanh(emb.view(-1, 6) @ W1 + B1)\n",
    "logits = h @ W2 + B2\n",
    "loss = F.cross_entropy(logits, Y)\n",
    "loss.item()"
   ]
  },
  {
   "attachments": {},
   "cell_type": "markdown",
   "metadata": {},
   "source": [
    "### Defining Functions To Make Things Cleaner"
   ]
  },
  {
   "cell_type": "code",
   "execution_count": 101,
   "metadata": {},
   "outputs": [],
   "source": [
    "def init_params():\n",
    "    C = torch.randn((27, 2))\n",
    "    W1 = torch.randn((6, 100))\n",
    "    B1 = torch.randn(100)\n",
    "    W2 = torch.randn((100, 27))\n",
    "    B2 = torch.randn(27)\n",
    "    \n",
    "    params = [C, W1, B1, W2, B2]\n",
    "\n",
    "    print(sum(p.nelement() for p in params))\n",
    "\n",
    "    for p in params:\n",
    "        p.requires_grad = True\n",
    "\n",
    "    return params    "
   ]
  },
  {
   "cell_type": "code",
   "execution_count": 121,
   "metadata": {},
   "outputs": [],
   "source": [
    "def train(n_iters, params, X, batch_size, lr, print_loss=True):\n",
    "    C = params[0]\n",
    "    W1 = params[1]\n",
    "    B1 = params[2]\n",
    "    W2 = params[3]\n",
    "    B2 = params[4]\n",
    "    \n",
    "    for _ in range(n_iters):\n",
    "        # create batches\n",
    "        ix = torch.randint(0, X.shape[0], (batch_size, ))\n",
    "        emb = C[X[ix]]\n",
    "\n",
    "        # forward pass\n",
    "        h = torch.tanh(emb.view(-1, 6) @ W1 + B1)\n",
    "        logits = h @ W2 + B2\n",
    "        loss = F.cross_entropy(logits, Y[ix])\n",
    "\n",
    "        # backward pass\n",
    "        for p in params:\n",
    "            p.grad = None\n",
    "        loss.backward()\n",
    "        \n",
    "        #update\n",
    "        for p in params:\n",
    "            p.data += -lr * p.grad\n",
    "\n",
    "        if print_loss:\n",
    "            print(loss.item()) # batch-wise loss\n",
    "\n",
    "    return params"
   ]
  },
  {
   "cell_type": "code",
   "execution_count": 122,
   "metadata": {},
   "outputs": [],
   "source": [
    "def get_loss(params, X):\n",
    "    C = params[0]\n",
    "    W1 = params[1]\n",
    "    B1 = params[2]\n",
    "    W2 = params[3]\n",
    "    B2 = params[4]\n",
    "    \n",
    "    emb = C[X] \n",
    "    h = torch.tanh(emb.view(-1, 6) @ W1 + B1)\n",
    "    logits = h @ W2 + B2\n",
    "    loss = F.cross_entropy(logits, Y)\n",
    "    \n",
    "    return loss.item()"
   ]
  },
  {
   "attachments": {},
   "cell_type": "markdown",
   "metadata": {},
   "source": [
    "Let's train the network using our functions."
   ]
  },
  {
   "cell_type": "code",
   "execution_count": 123,
   "metadata": {},
   "outputs": [
    {
     "name": "stdout",
     "output_type": "stream",
     "text": [
      "3481\n",
      "21.790790557861328\n",
      "20.75332260131836\n",
      "14.57507038116455\n",
      "14.634089469909668\n",
      "12.178943634033203\n",
      "12.33788776397705\n",
      "12.314729690551758\n",
      "10.5565824508667\n",
      "11.993642807006836\n",
      "10.164029121398926\n",
      "Overall Loss: 10.655043601989746\n"
     ]
    }
   ],
   "source": [
    "params = init_params()\n",
    "params = train(10, params, X, 32, 0.1)\n",
    "loss = get_loss(params, X)\n",
    "print(f'Overall Loss: {loss}')"
   ]
  },
  {
   "attachments": {},
   "cell_type": "markdown",
   "metadata": {},
   "source": [
    "## Picking A Learning Rate\n",
    "\n",
    "We can observe by hit and trial that the learning rate `0.001` is too low and a learning rate of `1` is too high. So instead we'll pick variable number of learning rates which gradually decrease."
   ]
  },
  {
   "cell_type": "code",
   "execution_count": 128,
   "metadata": {},
   "outputs": [
    {
     "data": {
      "text/plain": [
       "tensor([0.0010, 0.0010, 0.0010, 0.0010, 0.0010, 0.0010, 0.0010, 0.0010, 0.0011,\n",
       "        0.0011])"
      ]
     },
     "execution_count": 128,
     "metadata": {},
     "output_type": "execute_result"
    }
   ],
   "source": [
    "lre = torch.linspace(-3, 0, 1000) # lower limit, upper limit, number of steps\n",
    "lrs = 10**lre # 10 to the power of lre\n",
    "lrs[:10]"
   ]
  },
  {
   "attachments": {},
   "cell_type": "markdown",
   "metadata": {},
   "source": [
    "Here the lr is the exponentiated version of the linearly increasing list of exponents. It starts at `10^-3` and ends at `10^0`. Using one of the learning rates from the above list we get:"
   ]
  },
  {
   "cell_type": "code",
   "execution_count": 131,
   "metadata": {},
   "outputs": [],
   "source": [
    "def train_var_lr(n_iters, params, X, batch_size, lrs):\n",
    "    C = params[0]\n",
    "    W1 = params[1]\n",
    "    B1 = params[2]\n",
    "    W2 = params[3]\n",
    "    B2 = params[4]\n",
    "    \n",
    "    lri = []\n",
    "    lrei = []\n",
    "    lossi = []\n",
    "\n",
    "    for i in range(n_iters):\n",
    "        ix = torch.randint(0, X.shape[0], (batch_size, ))\n",
    "        emb = C[X[ix]] \n",
    "\n",
    "        h = torch.tanh(emb.view(-1, 6) @ W1 + B1)\n",
    "        logits = h @ W2 + B2\n",
    "        loss = F.cross_entropy(logits, Y[ix])\n",
    "\n",
    "        for p in params:\n",
    "            p.grad = None\n",
    "        loss.backward()\n",
    "\n",
    "        lr = lrs[i]\n",
    "        for p in params:\n",
    "            p.data += -lr * p.grad\n",
    "\n",
    "        lri.append(lrs[i])\n",
    "        lrei.append(lre[i])\n",
    "        lossi.append(loss.item())\n",
    "\n",
    "    return lri, lrei, lossi    "
   ]
  },
  {
   "cell_type": "code",
   "execution_count": 132,
   "metadata": {},
   "outputs": [
    {
     "name": "stdout",
     "output_type": "stream",
     "text": [
      "3481\n"
     ]
    }
   ],
   "source": [
    "params = init_params()\n",
    "lri, lrei, lossi = train_var_lr(1000, params, X, 32, lrs)"
   ]
  },
  {
   "cell_type": "code",
   "execution_count": 133,
   "metadata": {},
   "outputs": [
    {
     "data": {
      "image/png": "[encoded data removed]",
      "text/plain": [
       "<Figure size 640x480 with 1 Axes>"
      ]
     },
     "metadata": {},
     "output_type": "display_data"
    }
   ],
   "source": [
    "plot.plot(lri, lossi);"
   ]
  },
  {
   "cell_type": "code",
   "execution_count": 134,
   "metadata": {},
   "outputs": [
    {
     "data": {
      "image/png": "[encoded data removed]",
      "text/plain": [
       "<Figure size 640x480 with 1 Axes>"
      ]
     },
     "metadata": {},
     "output_type": "display_data"
    }
   ],
   "source": [
    "plot.plot(lrei, lossi);"
   ]
  },
  {
   "attachments": {},
   "cell_type": "markdown",
   "metadata": {},
   "source": [
    "We can observe from the graph that the loss starts decrease as the learning rate slowly increases first but after around 0.2 the loss starts to become unstable. A good learing rate exponent is somewhere around -1.0 i.e. `lr=0.1`.\n",
    "\n",
    "So now that we have confidence that 0.1 is a good learning rate we train our model for more iterations using that learning rate."
   ]
  },
  {
   "cell_type": "code",
   "execution_count": 126,
   "metadata": {},
   "outputs": [
    {
     "name": "stdout",
     "output_type": "stream",
     "text": [
      "3481\n",
      "Overall Loss: 2.5127880573272705\n"
     ]
    }
   ],
   "source": [
    "params = init_params()\n",
    "params = train(10_000, params, X, 32, 0.1, False)\n",
    "loss = get_loss(params, X)\n",
    "print(f'Overall Loss: {loss}')"
   ]
  },
  {
   "attachments": {},
   "cell_type": "markdown",
   "metadata": {},
   "source": [
    "### Learning Rate Decay\n",
    "\n",
    "As we keep training with the same learning rate our loss decreases to a local minimum, it plateaus, so we reduce the learning rate to improve the training."
   ]
  },
  {
   "cell_type": "code",
   "execution_count": 127,
   "metadata": {},
   "outputs": [
    {
     "name": "stdout",
     "output_type": "stream",
     "text": [
      "3481\n",
      "Overall Loss: 2.4706618785858154\n",
      "Overall Loss: 2.39115834236145\n"
     ]
    }
   ],
   "source": [
    "params = init_params()\n",
    "params = train(10_000, params, X, 32, 0.1, False)\n",
    "loss = get_loss(params, X)\n",
    "print(f'Overall Loss: {loss}')\n",
    "\n",
    "# training again with same params but lower lr\n",
    "params = train(10_000, params, X, 32, 0.01, False)\n",
    "loss = get_loss(params, X)\n",
    "print(f'Overall Loss: {loss}')"
   ]
  },
  {
   "attachments": {},
   "cell_type": "markdown",
   "metadata": {},
   "source": [
    "## Creating Training, Validation And Test Splits"
   ]
  },
  {
   "cell_type": "code",
   "execution_count": 12,
   "metadata": {},
   "outputs": [],
   "source": [
    "def build_dataset(words):\n",
    "    block_size = 3 \n",
    "    X, Y = [], []\n",
    "\n",
    "    for w in words:\n",
    "        context = [0] * block_size \n",
    "        for ch in w + '.':\n",
    "            ix = chtoi[ch]\n",
    "            X.append(context)\n",
    "            Y.append(ix)\n",
    "            context = context[1:] + [ix] \n",
    "\n",
    "\n",
    "    X = torch.tensor(X)\n",
    "    Y = torch.tensor(Y)\n",
    "\n",
    "    print(X.shape, Y.shape)\n",
    "    \n",
    "    return X, Y"
   ]
  },
  {
   "cell_type": "code",
   "execution_count": 13,
   "metadata": {},
   "outputs": [],
   "source": [
    "random.shuffle(words)"
   ]
  },
  {
   "cell_type": "code",
   "execution_count": 14,
   "metadata": {},
   "outputs": [],
   "source": [
    "n1 = int(0.8*len(words))\n",
    "n2 = int(0.9*len(words))"
   ]
  },
  {
   "cell_type": "code",
   "execution_count": 138,
   "metadata": {},
   "outputs": [
    {
     "data": {
      "text/plain": [
       "(25626, 28829)"
      ]
     },
     "execution_count": 138,
     "metadata": {},
     "output_type": "execute_result"
    }
   ],
   "source": [
    "n1, n2"
   ]
  },
  {
   "cell_type": "code",
   "execution_count": 15,
   "metadata": {},
   "outputs": [
    {
     "name": "stdout",
     "output_type": "stream",
     "text": [
      "torch.Size([182637, 3]) torch.Size([182637])\n",
      "torch.Size([22778, 3]) torch.Size([22778])\n",
      "torch.Size([22731, 3]) torch.Size([22731])\n"
     ]
    }
   ],
   "source": [
    "Xtr, Ytr = build_dataset(words[:n1])\n",
    "Xval, Yval = build_dataset(words[n1:n2])\n",
    "Xtest, Ytest = build_dataset(words[n2:])"
   ]
  },
  {
   "attachments": {},
   "cell_type": "markdown",
   "metadata": {},
   "source": [
    "## Training Using New Splits"
   ]
  },
  {
   "cell_type": "code",
   "execution_count": 140,
   "metadata": {},
   "outputs": [
    {
     "name": "stdout",
     "output_type": "stream",
     "text": [
      "3481\n"
     ]
    }
   ],
   "source": [
    "params = init_params()\n",
    "params = train(10_000, params, Xtr, 32, 0.1, False)"
   ]
  },
  {
   "cell_type": "code",
   "execution_count": 145,
   "metadata": {},
   "outputs": [],
   "source": [
    "def get_loss(params, split='train'):\n",
    "    if split == 'val':\n",
    "        X = Xval\n",
    "        Y = Yval\n",
    "    elif split == 'test':\n",
    "        X = Xtest\n",
    "        Y = Ytest  \n",
    "    else:\n",
    "        X = Xtr\n",
    "        Y = Ytr    \n",
    "\n",
    "    C = params[0]\n",
    "    W1 = params[1]\n",
    "    B1 = params[2]\n",
    "    W2 = params[3]\n",
    "    B2 = params[4]\n",
    "    \n",
    "    emb = C[X] \n",
    "    h = torch.tanh(emb.view(-1, 6) @ W1 + B1)\n",
    "    logits = h @ W2 + B2\n",
    "    loss = F.cross_entropy(logits, Y)\n",
    "    \n",
    "    return loss.item()"
   ]
  },
  {
   "cell_type": "code",
   "execution_count": 148,
   "metadata": {},
   "outputs": [
    {
     "name": "stdout",
     "output_type": "stream",
     "text": [
      "2.8879709243774414\n"
     ]
    }
   ],
   "source": [
    "# overall loss on training set\n",
    "print(get_loss(params))"
   ]
  },
  {
   "cell_type": "code",
   "execution_count": 147,
   "metadata": {},
   "outputs": [
    {
     "name": "stdout",
     "output_type": "stream",
     "text": [
      "2.8975517749786377\n"
     ]
    }
   ],
   "source": [
    "# overall loss on validation set\n",
    "print(get_loss(params, 'val'))"
   ]
  },
  {
   "cell_type": "code",
   "execution_count": 149,
   "metadata": {},
   "outputs": [
    {
     "name": "stdout",
     "output_type": "stream",
     "text": [
      "2.886699676513672\n"
     ]
    }
   ],
   "source": [
    "print(get_loss(params, 'test'))"
   ]
  },
  {
   "attachments": {},
   "cell_type": "markdown",
   "metadata": {},
   "source": [
    "Right now the training and validation loss are almost equal. That's how we know we're not overfitting."
   ]
  },
  {
   "attachments": {},
   "cell_type": "markdown",
   "metadata": {},
   "source": [
    "## Using A Larger Hidden Layer\n",
    "\n",
    "Our model is not powerful enough to just memorise the data because our training and validation losses are almost equal so we're not overfitting, we're underfitting. That means that our network is very small and we can expect to make performance improvements by scaling up the size of the model."
   ]
  },
  {
   "attachments": {},
   "cell_type": "markdown",
   "metadata": {},
   "source": [
    "### Increasing The Number Of Neurons In The Hidden Layer"
   ]
  },
  {
   "cell_type": "code",
   "execution_count": 4,
   "metadata": {},
   "outputs": [],
   "source": [
    "def init_params(n_embed, block_size, vocab_size, n_hidden):\n",
    "    C = torch.randn((27, n_embed))\n",
    "    W1 = torch.randn((n_embed * block_size, n_hidden))\n",
    "    B1 = torch.randn(n_hidden)\n",
    "    W2 = torch.randn((n_hidden, vocab_size))\n",
    "    B2 = torch.randn(vocab_size)\n",
    "    \n",
    "    params = [C, W1, B1, W2, B2]\n",
    "\n",
    "    print(sum(p.nelement() for p in params))\n",
    "\n",
    "    for p in params:\n",
    "        p.requires_grad = True\n",
    "\n",
    "    return params    "
   ]
  },
  {
   "cell_type": "code",
   "execution_count": 154,
   "metadata": {},
   "outputs": [
    {
     "name": "stdout",
     "output_type": "stream",
     "text": [
      "10281\n"
     ]
    }
   ],
   "source": [
    "params = init_params(2, 3, 27, 300)"
   ]
  },
  {
   "attachments": {},
   "cell_type": "markdown",
   "metadata": {},
   "source": [
    "Our parameters have increased from 3481 to 10281"
   ]
  },
  {
   "cell_type": "code",
   "execution_count": null,
   "metadata": {},
   "outputs": [],
   "source": [
    "lr = 0.1\n",
    "lossi = []\n",
    "stepi = []"
   ]
  },
  {
   "cell_type": "code",
   "execution_count": 155,
   "metadata": {},
   "outputs": [],
   "source": [
    "def train(n_iters, params, X, batch_size, lr, n_embed, block_size, print_loss=True):\n",
    "    C = params[0]\n",
    "    W1 = params[1]\n",
    "    B1 = params[2]\n",
    "    W2 = params[3]\n",
    "    B2 = params[4]\n",
    "    \n",
    "    lossi = []\n",
    "    stepi = []  \n",
    "\n",
    "    for i in range(n_iters):\n",
    "        # create batches\n",
    "        ix = torch.randint(0, X.shape[0], (batch_size, ))\n",
    "        emb = C[X[ix]]\n",
    "\n",
    "        # forward pass\n",
    "        h = torch.tanh(emb.view(-1, n_embed*block_size) @ W1 + B1)\n",
    "        logits = h @ W2 + B2\n",
    "        loss = F.cross_entropy(logits, Y[ix])\n",
    "\n",
    "        # backward pass\n",
    "        for p in params:\n",
    "            p.grad = None\n",
    "        loss.backward()\n",
    "        \n",
    "        #update\n",
    "        for p in params:\n",
    "            p.data += -lr * p.grad\n",
    "\n",
    "        if print_loss:\n",
    "            print(loss.item()) # batch-wise loss\n",
    "\n",
    "        stepi.append(i)\n",
    "        lossi.append(loss.item())       \n",
    "\n",
    "    return params, stepi, lossi"
   ]
  },
  {
   "cell_type": "code",
   "execution_count": 156,
   "metadata": {},
   "outputs": [],
   "source": [
    "params, stepi, lossi = train(30_000, params, Xtr, 32, 0.1, 2, 3, False)"
   ]
  },
  {
   "cell_type": "code",
   "execution_count": 157,
   "metadata": {},
   "outputs": [
    {
     "data": {
      "text/plain": [
       "[<matplotlib.lines.Line2D at 0x130fefdc0>]"
      ]
     },
     "execution_count": 157,
     "metadata": {},
     "output_type": "execute_result"
    },
    {
     "data": {
      "image/png": "[encoded data removed]",
      "text/plain": [
       "<Figure size 640x480 with 1 Axes>"
      ]
     },
     "metadata": {},
     "output_type": "display_data"
    }
   ],
   "source": [
    "plot.plot(stepi, lossi)"
   ]
  },
  {
   "attachments": {},
   "cell_type": "markdown",
   "metadata": {},
   "source": [
    "The lines have a bit of a height to them after optimizing. That's because we're using mini batches which add a little bit of noise."
   ]
  },
  {
   "cell_type": "code",
   "execution_count": 158,
   "metadata": {},
   "outputs": [
    {
     "name": "stdout",
     "output_type": "stream",
     "text": [
      "3.1763155460357666\n",
      "3.1914405822753906\n"
     ]
    }
   ],
   "source": [
    "#losses\n",
    "print(get_loss(params))\n",
    "print(get_loss(params, 'val'))"
   ]
  },
  {
   "cell_type": "code",
   "execution_count": 162,
   "metadata": {},
   "outputs": [
    {
     "name": "stdout",
     "output_type": "stream",
     "text": [
      "2.8610196113586426\n",
      "2.872154712677002\n"
     ]
    }
   ],
   "source": [
    "# performing more iterarations until our loss plateaus\n",
    "params, stepi, lossi = train(30_000, params, Xtr, 32, 0.1, 2, 3, False)\n",
    "print(get_loss(params))\n",
    "print(get_loss(params, 'val'))"
   ]
  },
  {
   "cell_type": "code",
   "execution_count": 164,
   "metadata": {},
   "outputs": [
    {
     "name": "stdout",
     "output_type": "stream",
     "text": [
      "2.8278417587280273\n",
      "2.837756395339966\n"
     ]
    }
   ],
   "source": [
    "# training further with a reduced lr\n",
    "params, stepi, lossi = train(60_000, params, Xtr, 32, 0.01, 2, 3, False)\n",
    "print(get_loss(params))\n",
    "print(get_loss(params, 'val'))"
   ]
  },
  {
   "attachments": {},
   "cell_type": "markdown",
   "metadata": {},
   "source": [
    "After training quite a bit we haven't improved the loss by much because our larger network requires more training to converge to a lower loss.\n",
    "\n",
    "We can continue training it more and check if the loss improves. Another reason can be that our batch size is very low that we have too much noise in the training data and we might want to increase it to have a better gradient."
   ]
  },
  {
   "attachments": {},
   "cell_type": "markdown",
   "metadata": {},
   "source": [
    "Another reason can be that the bottleneck of the network right now could be our 2D embeddings. We might be scramming way too many characters into just a 2D vector and the network isn't really able to use that vector space effectively."
   ]
  },
  {
   "attachments": {},
   "cell_type": "markdown",
   "metadata": {},
   "source": [
    "### Visualizing The 2D Character Embeddings Trained By The Network"
   ]
  },
  {
   "cell_type": "code",
   "execution_count": 165,
   "metadata": {},
   "outputs": [
    {
     "data": {
      "image/png": "[encoded data removed]",
      "text/plain": [
       "<Figure size 800x800 with 1 Axes>"
      ]
     },
     "metadata": {},
     "output_type": "display_data"
    }
   ],
   "source": [
    "plot.figure(figsize=(8, 8))\n",
    "plot.scatter(C[:, 0].data, C[:, 1].data, s=200)\n",
    "for i in range(C.shape[0]):\n",
    "    plot.text(C[i, 0].item(), C[i, 1].item(), itoch[i], ha=\"center\", va=\"center\", color=\"white\")\n",
    "plot.grid(\"minor\")    "
   ]
  },
  {
   "attachments": {},
   "cell_type": "markdown",
   "metadata": {},
   "source": [
    "## Using Larger Embedding Vectors\n",
    "\n",
    "Instead of 2D embeddings let's try embeddings of 10 dimensions and have 200 neurons in the hidden layer."
   ]
  },
  {
   "cell_type": "code",
   "execution_count": 33,
   "metadata": {},
   "outputs": [
    {
     "name": "stdout",
     "output_type": "stream",
     "text": [
      "11897\n"
     ]
    }
   ],
   "source": [
    "params = init_params(10, 3, 27, 200)"
   ]
  },
  {
   "attachments": {},
   "cell_type": "markdown",
   "metadata": {},
   "source": [
    "We'll also modify the training function to keep track of log losses instead of losses."
   ]
  },
  {
   "cell_type": "code",
   "execution_count": 17,
   "metadata": {},
   "outputs": [],
   "source": [
    "def train(n_iters, params, X, batch_size, lr, n_embed, block_size, print_loss=True):\n",
    "    C = params[0]\n",
    "    W1 = params[1]\n",
    "    B1 = params[2]\n",
    "    W2 = params[3]\n",
    "    B2 = params[4]\n",
    "    \n",
    "    lossi = []\n",
    "    stepi = []  \n",
    "\n",
    "    for i in range(n_iters):\n",
    "        # create batches\n",
    "        ix = torch.randint(0, X.shape[0], (batch_size, ))\n",
    "        emb = C[X[ix]]\n",
    "\n",
    "        # forward pass\n",
    "        h = torch.tanh(emb.view(-1, n_embed*block_size) @ W1 + B1)\n",
    "        logits = h @ W2 + B2\n",
    "        loss = F.cross_entropy(logits, Y[ix])\n",
    "\n",
    "        # backward pass\n",
    "        for p in params:\n",
    "            p.grad = None\n",
    "        loss.backward()\n",
    "        \n",
    "        #update\n",
    "        for p in params:\n",
    "            p.data += -lr * p.grad\n",
    "\n",
    "        if print_loss:\n",
    "            print(loss.item()) # batch-wise loss\n",
    "\n",
    "        stepi.append(i)\n",
    "        lossi.append(loss.log10().item())       \n",
    "\n",
    "    return params, stepi, lossi"
   ]
  },
  {
   "attachments": {},
   "cell_type": "markdown",
   "metadata": {},
   "source": [
    "We'll also have to modify our `get_loss` function to handle variable number of `n_embd` and `block_size`."
   ]
  },
  {
   "cell_type": "code",
   "execution_count": 18,
   "metadata": {},
   "outputs": [],
   "source": [
    "def get_loss(params,  n_embd, block_size, split='train',):\n",
    "    if split == 'val':\n",
    "        X = Xval\n",
    "        Y = Yval\n",
    "    elif split == 'test':\n",
    "        X = Xtest\n",
    "        Y = Ytest  \n",
    "    else:\n",
    "        X = Xtr\n",
    "        Y = Ytr    \n",
    "\n",
    "    C = params[0]\n",
    "    W1 = params[1]\n",
    "    B1 = params[2]\n",
    "    W2 = params[3]\n",
    "    B2 = params[4]\n",
    "    \n",
    "    emb = C[X] \n",
    "    h = torch.tanh(emb.view(-1, n_embd*block_size) @ W1 + B1)\n",
    "    logits = h @ W2 + B2\n",
    "    loss = F.cross_entropy(logits, Y)\n",
    "    \n",
    "    return loss.item()"
   ]
  },
  {
   "cell_type": "code",
   "execution_count": 34,
   "metadata": {},
   "outputs": [
    {
     "name": "stdout",
     "output_type": "stream",
     "text": [
      "2.858733892440796\n",
      "2.8570473194122314\n"
     ]
    }
   ],
   "source": [
    "params, stepi, lossi = train(300_000, params, Xtr, 32, 0.1, 10, 3, False)\n",
    "print(get_loss(params, 10, 3))\n",
    "print(get_loss(params, 10, 3, 'val'))"
   ]
  },
  {
   "cell_type": "code",
   "execution_count": 35,
   "metadata": {},
   "outputs": [
    {
     "data": {
      "image/png": "[encoded data removed]",
      "text/plain": [
       "<Figure size 640x480 with 1 Axes>"
      ]
     },
     "metadata": {},
     "output_type": "display_data"
    }
   ],
   "source": [
    "# plotting the log loss\n",
    "plot.plot(stepi, lossi);"
   ]
  },
  {
   "cell_type": "code",
   "execution_count": 40,
   "metadata": {},
   "outputs": [
    {
     "name": "stdout",
     "output_type": "stream",
     "text": [
      "2.839715003967285\n",
      "2.838625907897949\n"
     ]
    }
   ],
   "source": [
    "# more iterations\n",
    "params, stepi, lossi = train(300_000, params, Xtr, 32, 0.1, 10, 3, False)\n",
    "print(get_loss(params, 10, 3))\n",
    "print(get_loss(params, 10, 3, 'val'))"
   ]
  },
  {
   "cell_type": "code",
   "execution_count": 41,
   "metadata": {},
   "outputs": [
    {
     "data": {
      "image/png": "[encoded data removed]",
      "text/plain": [
       "<Figure size 640x480 with 1 Axes>"
      ]
     },
     "metadata": {},
     "output_type": "display_data"
    }
   ],
   "source": [
    "plot.plot(stepi, lossi);"
   ]
  },
  {
   "cell_type": "code",
   "execution_count": 44,
   "metadata": {},
   "outputs": [
    {
     "name": "stdout",
     "output_type": "stream",
     "text": [
      "2.8282389640808105\n",
      "2.8273980617523193\n"
     ]
    }
   ],
   "source": [
    "# training on reduced lr \n",
    "params, stepi, lossi = train(100_000, params, Xtr, 32, 0.01, 10, 3, False)\n",
    "print(get_loss(params, 10, 3))\n",
    "print(get_loss(params, 10, 3, 'val'))"
   ]
  },
  {
   "attachments": {},
   "cell_type": "markdown",
   "metadata": {},
   "source": [
    "Notice how the training and the validation losses will to diverge now so maybe the network is getting good enough now that we are slowly starting to overfit."
   ]
  },
  {
   "attachments": {},
   "cell_type": "markdown",
   "metadata": {},
   "source": [
    "We can try out many combinations of hyperparams to further improve the network\n",
    "\n",
    "- Modify the size of the network\n",
    "- Size of the embeddings\n",
    "- Modify the batch size\n",
    "- Increase the number of characters in a single series\n",
    "- How many iterations to run\n",
    "- How the learining rate decays"
   ]
  },
  {
   "attachments": {},
   "cell_type": "markdown",
   "metadata": {},
   "source": [
    "### Task\n",
    "\n",
    "At the end of the lecture the loss after training for 200,000 iter at learning rate of 0.1 for first 100k and then 0.01 was 2.12 and 2.17 on training and validation sets resp. The goal is to try to get a better loss by modifying the params."
   ]
  },
  {
   "attachments": {},
   "cell_type": "markdown",
   "metadata": {},
   "source": [
    "## Sampling From The Model"
   ]
  },
  {
   "cell_type": "code",
   "execution_count": 48,
   "metadata": {},
   "outputs": [
    {
     "name": "stdout",
     "output_type": "stream",
     "text": [
      "ray.\n",
      "kiv.\n",
      "kev.\n",
      "emakie.\n",
      "ine.\n",
      "baauri.\n",
      "kadley.\n",
      "srious.\n",
      "juro.\n",
      "bariina.\n",
      "meya.\n",
      "imalykanzae.\n",
      "toraylinn.\n",
      "kam.\n",
      "emyna.\n",
      "fyre.\n",
      "jeedlyann.\n",
      "lurnell.\n",
      "myishadiaroalina.\n",
      "koniri.\n"
     ]
    }
   ],
   "source": [
    "for _ in range(20):\n",
    "    out = []\n",
    "    context = [0] * block_size # init context with all dots ...\n",
    "    while True:\n",
    "        emb = C[torch.tensor([context])] # (1, block_size, d)\n",
    "        h = torch.tanh(emb.view(1, -1) @ W1 + B1)\n",
    "        logits = h @ W2 + B2\n",
    "        probs = F.softmax(logits, dim=1)\n",
    "        ix = torch.multinomial(probs, num_samples=1).item()\n",
    "        context = context[1:] + [ix]\n",
    "        out.append(ix)\n",
    "        if ix == 0:\n",
    "            break\n",
    "\n",
    "    print(''.join(itoch[i] for i in out))    "
   ]
  },
  {
   "attachments": {},
   "cell_type": "markdown",
   "metadata": {},
   "source": [
    "Our words now look a bit more namelike but we can improve further."
   ]
  }
 ],
 "metadata": {
  "kernelspec": {
   "display_name": "transformers-playground",
   "language": "python",
   "name": "python3"
  },
  "language_info": {
   "codemirror_mode": {
    "name": "ipython",
    "version": 3
   },
   "file_extension": ".py",
   "mimetype": "text/x-python",
   "name": "python",
   "nbconvert_exporter": "python",
   "pygments_lexer": "ipython3",
   "version": "3.9.16"
  },
  "orig_nbformat": 4
 },
 "nbformat": 4,
 "nbformat_minor": 2
}
