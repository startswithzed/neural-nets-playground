{
 "cells": [
  {
   "attachments": {},
   "cell_type": "markdown",
   "metadata": {},
   "source": [
    "# Building A Multi Layer Perceptron"
   ]
  },
  {
   "attachments": {},
   "cell_type": "markdown",
   "metadata": {},
   "source": [
    "## Building Training Dataset"
   ]
  },
  {
   "cell_type": "code",
   "execution_count": 117,
   "metadata": {},
   "outputs": [],
   "source": [
    "import torch\n",
    "import torch.nn.functional as F\n",
    "import matplotlib.pyplot as plot\n",
    "%matplotlib inline\n",
    "import random"
   ]
  },
  {
   "cell_type": "code",
   "execution_count": 9,
   "metadata": {},
   "outputs": [
    {
     "data": {
      "text/plain": [
       "['emma', 'olivia', 'ava', 'isabella', 'sophia', 'charlotte', 'mia', 'amelia']"
      ]
     },
     "execution_count": 9,
     "metadata": {},
     "output_type": "execute_result"
    }
   ],
   "source": [
    "words = open('../data/names.txt', 'r').read().splitlines()\n",
    "words[:8]"
   ]
  },
  {
   "cell_type": "code",
   "execution_count": 10,
   "metadata": {},
   "outputs": [
    {
     "data": {
      "text/plain": [
       "32033"
      ]
     },
     "execution_count": 10,
     "metadata": {},
     "output_type": "execute_result"
    }
   ],
   "source": [
    "len(words)"
   ]
  },
  {
   "cell_type": "code",
   "execution_count": 11,
   "metadata": {},
   "outputs": [
    {
     "name": "stdout",
     "output_type": "stream",
     "text": [
      "{1: 'a', 2: 'b', 3: 'c', 4: 'd', 5: 'e', 6: 'f', 7: 'g', 8: 'h', 9: 'i', 10: 'j', 11: 'k', 12: 'l', 13: 'm', 14: 'n', 15: 'o', 16: 'p', 17: 'q', 18: 'r', 19: 's', 20: 't', 21: 'u', 22: 'v', 23: 'w', 24: 'x', 25: 'y', 26: 'z', 0: '.'}\n"
     ]
    }
   ],
   "source": [
    "# build vocab and mappings\n",
    "chars = sorted(list(set(''.join(words))))\n",
    "chtoi ={ch:i+1 for i, ch in enumerate(chars)} # char to int mapping\n",
    "chtoi['.'] = 0 # add separator\n",
    "itoch = {i:ch for ch, i in chtoi.items()} # int to char mapping\n",
    "print(itoch)"
   ]
  },
  {
   "cell_type": "code",
   "execution_count": 12,
   "metadata": {},
   "outputs": [],
   "source": [
    "# building the dataset\n",
    "block_size = 3 "
   ]
  },
  {
   "attachments": {},
   "cell_type": "markdown",
   "metadata": {},
   "source": [
    "`block_size` represents the context length i.e. how many characters does the model take to predict the next one."
   ]
  },
  {
   "cell_type": "code",
   "execution_count": 13,
   "metadata": {},
   "outputs": [
    {
     "name": "stdout",
     "output_type": "stream",
     "text": [
      "emma\n",
      "... -> e\n",
      "..e -> m\n",
      ".em -> m\n",
      "emm -> a\n",
      "mma -> .\n",
      "olivia\n",
      "... -> o\n",
      "..o -> l\n",
      ".ol -> i\n",
      "oli -> v\n",
      "liv -> i\n",
      "ivi -> a\n",
      "via -> .\n",
      "ava\n",
      "... -> a\n",
      "..a -> v\n",
      ".av -> a\n",
      "ava -> .\n"
     ]
    }
   ],
   "source": [
    "X, Y = [], []\n",
    "\n",
    "for w in words[:3]:\n",
    "    print(w)\n",
    "    context = [0] * block_size ## start with padded context of 0s\n",
    "    for ch in w + '.':\n",
    "        ix = chtoi[ch]\n",
    "        X.append(context)\n",
    "        Y.append(ix)\n",
    "        print(''.join(itoch[i] for i in context), '->', itoch[ix])\n",
    "        context = context[1:] + [ix] # update the context window"
   ]
  },
  {
   "cell_type": "code",
   "execution_count": 14,
   "metadata": {},
   "outputs": [
    {
     "name": "stdout",
     "output_type": "stream",
     "text": [
      "inputs:\n",
      "[[0, 0, 0], [0, 0, 5], [0, 5, 13], [5, 13, 13], [13, 13, 1], [0, 0, 0], [0, 0, 15], [0, 15, 12], [15, 12, 9], [12, 9, 22], [9, 22, 9], [22, 9, 1], [0, 0, 0], [0, 0, 1], [0, 1, 22], [1, 22, 1]]\n",
      "\n",
      "targets:\n",
      "[5, 13, 13, 1, 0, 15, 12, 9, 22, 9, 1, 0, 1, 22, 1, 0]\n",
      "\n"
     ]
    }
   ],
   "source": [
    "print(f'inputs:\\n{X}\\n')\n",
    "print(f'targets:\\n{Y}\\n')"
   ]
  },
  {
   "cell_type": "code",
   "execution_count": 15,
   "metadata": {},
   "outputs": [],
   "source": [
    "X = torch.tensor(X)\n",
    "Y = torch.tensor(Y)"
   ]
  },
  {
   "attachments": {},
   "cell_type": "markdown",
   "metadata": {},
   "source": [
    "Notice that out of the word \"emma\" we can generate 5 different example for inputs and targets."
   ]
  },
  {
   "cell_type": "code",
   "execution_count": 16,
   "metadata": {},
   "outputs": [
    {
     "data": {
      "text/plain": [
       "(torch.Size([16, 3]), torch.int64, torch.Size([16]), torch.int64)"
      ]
     },
     "execution_count": 16,
     "metadata": {},
     "output_type": "execute_result"
    }
   ],
   "source": [
    "X.shape, X.dtype, Y.shape, Y.dtype"
   ]
  },
  {
   "cell_type": "markdown",
   "metadata": {},
   "source": [
    "## Building The Embedding Table"
   ]
  },
  {
   "cell_type": "code",
   "execution_count": 17,
   "metadata": {},
   "outputs": [
    {
     "data": {
      "text/plain": [
       "tensor([[-0.7139,  0.3497],\n",
       "        [ 0.5407, -0.7839],\n",
       "        [ 0.4091, -1.1315],\n",
       "        [-0.7191, -0.0769],\n",
       "        [ 0.0222,  0.3191],\n",
       "        [-1.2853, -0.4953],\n",
       "        [ 0.7021, -0.1104],\n",
       "        [ 2.0897, -0.7917],\n",
       "        [-0.7046, -1.7147],\n",
       "        [ 0.0570, -0.8869],\n",
       "        [-1.6141,  0.7676],\n",
       "        [-0.7819, -1.9523],\n",
       "        [ 0.7117,  0.5099],\n",
       "        [ 0.6509,  0.6420],\n",
       "        [-0.7769,  0.7733],\n",
       "        [ 1.8286, -1.0109],\n",
       "        [-1.1643, -0.8813],\n",
       "        [ 0.0635, -0.2068],\n",
       "        [ 0.3117,  1.3292],\n",
       "        [ 0.2380, -1.1240],\n",
       "        [-0.2097, -0.0998],\n",
       "        [-0.4272, -0.4513],\n",
       "        [ 0.5003,  0.9672],\n",
       "        [ 1.2639,  0.3094],\n",
       "        [-0.5654, -0.0813],\n",
       "        [-2.3500,  0.7216],\n",
       "        [ 0.1687,  0.2044]])"
      ]
     },
     "execution_count": 17,
     "metadata": {},
     "output_type": "execute_result"
    }
   ],
   "source": [
    "C = torch.randn((27, 2)) # creating a 2D vector space for a 27 token vocab size\n",
    "C "
   ]
  },
  {
   "attachments": {},
   "cell_type": "markdown",
   "metadata": {},
   "source": [
    "Embedding a single integer in the embedding lookup table"
   ]
  },
  {
   "cell_type": "code",
   "execution_count": 18,
   "metadata": {},
   "outputs": [
    {
     "data": {
      "text/plain": [
       "tensor([-1.2853, -0.4953])"
      ]
     },
     "execution_count": 18,
     "metadata": {},
     "output_type": "execute_result"
    }
   ],
   "source": [
    "C[5] # row corresponsding to index 5 in the embedding table"
   ]
  },
  {
   "cell_type": "code",
   "execution_count": 19,
   "metadata": {},
   "outputs": [
    {
     "data": {
      "text/plain": [
       "tensor([0, 0, 0, 0, 0, 1, 0, 0, 0, 0, 0, 0, 0, 0, 0, 0, 0, 0, 0, 0, 0, 0, 0, 0,\n",
       "        0, 0, 0])"
      ]
     },
     "execution_count": 19,
     "metadata": {},
     "output_type": "execute_result"
    }
   ],
   "source": [
    "F.one_hot(torch.tensor(5), num_classes=27) # encoding integer 5 to a vector"
   ]
  },
  {
   "cell_type": "code",
   "execution_count": 20,
   "metadata": {},
   "outputs": [
    {
     "data": {
      "text/plain": [
       "tensor([-1.2853, -0.4953])"
      ]
     },
     "execution_count": 20,
     "metadata": {},
     "output_type": "execute_result"
    }
   ],
   "source": [
    "F.one_hot(torch.tensor(5), num_classes=27).float() @ C"
   ]
  },
  {
   "attachments": {},
   "cell_type": "markdown",
   "metadata": {},
   "source": [
    "Notice that the output is identical. Because of all the 0s in the one-hot vector, all other values in C get masked out except for the row corresponding to the integer i.e. index 5. \n",
    "\n",
    "So the embedding of an integer can either be seen as the integer indexing into a lookup table C or it can be seen as the first layer of a larger NN. The neurons in this layer have no non-linearity and their weight matrix is C. We are encoding ints in one-hot and then feeding them to this layer."
   ]
  },
  {
   "attachments": {},
   "cell_type": "markdown",
   "metadata": {},
   "source": [
    "Getting embeddings of multiple integers"
   ]
  },
  {
   "cell_type": "code",
   "execution_count": 21,
   "metadata": {},
   "outputs": [
    {
     "data": {
      "text/plain": [
       "tensor([[-1.2853, -0.4953],\n",
       "        [ 0.7021, -0.1104],\n",
       "        [ 2.0897, -0.7917]])"
      ]
     },
     "execution_count": 21,
     "metadata": {},
     "output_type": "execute_result"
    }
   ],
   "source": [
    "C[[5, 6, 7]]"
   ]
  },
  {
   "cell_type": "code",
   "execution_count": 22,
   "metadata": {},
   "outputs": [
    {
     "data": {
      "text/plain": [
       "tensor([[-1.2853, -0.4953],\n",
       "        [ 0.7021, -0.1104],\n",
       "        [ 2.0897, -0.7917]])"
      ]
     },
     "execution_count": 22,
     "metadata": {},
     "output_type": "execute_result"
    }
   ],
   "source": [
    "C[torch.tensor([5, 6, 7])]"
   ]
  },
  {
   "cell_type": "code",
   "execution_count": 23,
   "metadata": {},
   "outputs": [
    {
     "data": {
      "text/plain": [
       "tensor([[[-0.7139,  0.3497],\n",
       "         [-0.7139,  0.3497],\n",
       "         [-0.7139,  0.3497]],\n",
       "\n",
       "        [[-0.7139,  0.3497],\n",
       "         [-0.7139,  0.3497],\n",
       "         [-1.2853, -0.4953]],\n",
       "\n",
       "        [[-0.7139,  0.3497],\n",
       "         [-1.2853, -0.4953],\n",
       "         [ 0.6509,  0.6420]]])"
      ]
     },
     "execution_count": 23,
     "metadata": {},
     "output_type": "execute_result"
    }
   ],
   "source": [
    "# we can also index with multi dim tensors\n",
    "C[X][:3]"
   ]
  },
  {
   "cell_type": "code",
   "execution_count": 24,
   "metadata": {},
   "outputs": [
    {
     "data": {
      "text/plain": [
       "torch.Size([16, 3])"
      ]
     },
     "execution_count": 24,
     "metadata": {},
     "output_type": "execute_result"
    }
   ],
   "source": [
    "X.shape"
   ]
  },
  {
   "cell_type": "code",
   "execution_count": 25,
   "metadata": {},
   "outputs": [
    {
     "data": {
      "text/plain": [
       "torch.Size([16, 3, 2])"
      ]
     },
     "execution_count": 25,
     "metadata": {},
     "output_type": "execute_result"
    }
   ],
   "source": [
    "C[X].shape # for everyone of the vectors in X we have a 2D embedding"
   ]
  },
  {
   "cell_type": "code",
   "execution_count": 26,
   "metadata": {},
   "outputs": [
    {
     "name": "stdout",
     "output_type": "stream",
     "text": [
      "tensor(1)\n",
      "tensor([ 0.5407, -0.7839])\n",
      "tensor([ 0.5407, -0.7839])\n"
     ]
    }
   ],
   "source": [
    "# example \n",
    "print(X[13, 2])\n",
    "print(C[X][13, 2])\n",
    "print(C[1])"
   ]
  },
  {
   "cell_type": "code",
   "execution_count": 27,
   "metadata": {},
   "outputs": [
    {
     "data": {
      "text/plain": [
       "torch.Size([16, 3, 2])"
      ]
     },
     "execution_count": 27,
     "metadata": {},
     "output_type": "execute_result"
    }
   ],
   "source": [
    "# so embedding all ints\n",
    "emb = C[X]\n",
    "emb.shape"
   ]
  },
  {
   "attachments": {},
   "cell_type": "markdown",
   "metadata": {},
   "source": [
    "## Implementing The Hidden Layer\n",
    "\n",
    "According to the paper we have 3 inputs of (in our case) 2 dims so the number of inputs for this layer is 6. Let's take the number of neurons in this layer to be 100 (upto us)."
   ]
  },
  {
   "cell_type": "code",
   "execution_count": 28,
   "metadata": {},
   "outputs": [],
   "source": [
    "W1 = torch.randn((6, 100)) # weights\n",
    "B1 = torch.randn(100) # biases"
   ]
  },
  {
   "attachments": {},
   "cell_type": "markdown",
   "metadata": {},
   "source": [
    "We want to do the operation `emb @ W + b` but the embeddings are stacked in the input tensor so matmul will not work. So we need to concatenate these inputs together i.e. convert 16, 3, 2 to a 16, 6 tensor."
   ]
  },
  {
   "cell_type": "code",
   "execution_count": 29,
   "metadata": {},
   "outputs": [
    {
     "data": {
      "text/plain": [
       "torch.Size([16, 2])"
      ]
     },
     "execution_count": 29,
     "metadata": {},
     "output_type": "execute_result"
    }
   ],
   "source": [
    "emb[:, 0, :].shape # get everything at the 0 index"
   ]
  },
  {
   "cell_type": "code",
   "execution_count": 30,
   "metadata": {},
   "outputs": [
    {
     "data": {
      "text/plain": [
       "torch.Size([16, 6])"
      ]
     },
     "execution_count": 30,
     "metadata": {},
     "output_type": "execute_result"
    }
   ],
   "source": [
    "torch.cat([emb[:, 0, :], emb[:, 1, :], emb[:, 2, :]], 1).shape # concatenate the seq across dim 1"
   ]
  },
  {
   "cell_type": "code",
   "execution_count": 31,
   "metadata": {},
   "outputs": [
    {
     "data": {
      "text/plain": [
       "3"
      ]
     },
     "execution_count": 31,
     "metadata": {},
     "output_type": "execute_result"
    }
   ],
   "source": [
    "# to generalize the above operation\n",
    "len(torch.unbind(emb, 1)) # list of tensors as in the above operation"
   ]
  },
  {
   "cell_type": "code",
   "execution_count": 32,
   "metadata": {},
   "outputs": [
    {
     "data": {
      "text/plain": [
       "torch.Size([16, 6])"
      ]
     },
     "execution_count": 32,
     "metadata": {},
     "output_type": "execute_result"
    }
   ],
   "source": [
    "# so now we can do the general operation\n",
    "torch.cat(torch.unbind(emb, 1), 1).shape"
   ]
  },
  {
   "attachments": {},
   "cell_type": "markdown",
   "metadata": {},
   "source": [
    "Turns out there is an even better way of doing this."
   ]
  },
  {
   "cell_type": "code",
   "execution_count": 33,
   "metadata": {},
   "outputs": [
    {
     "data": {
      "text/plain": [
       "tensor([ 0,  1,  2,  3,  4,  5,  6,  7,  8,  9, 10, 11, 12, 13, 14, 15, 16, 17])"
      ]
     },
     "execution_count": 33,
     "metadata": {},
     "output_type": "execute_result"
    }
   ],
   "source": [
    "example = torch.arange(18)\n",
    "example"
   ]
  },
  {
   "cell_type": "code",
   "execution_count": 34,
   "metadata": {},
   "outputs": [
    {
     "data": {
      "text/plain": [
       "tensor([[ 0,  1,  2,  3,  4,  5,  6,  7,  8],\n",
       "        [ 9, 10, 11, 12, 13, 14, 15, 16, 17]])"
      ]
     },
     "execution_count": 34,
     "metadata": {},
     "output_type": "execute_result"
    }
   ],
   "source": [
    "# we can represent example tensor in different sized n dim tensors\n",
    "example.view(2, 9)"
   ]
  },
  {
   "cell_type": "code",
   "execution_count": 35,
   "metadata": {},
   "outputs": [
    {
     "data": {
      "text/plain": [
       "tensor([[[ 0,  1],\n",
       "         [ 2,  3],\n",
       "         [ 4,  5]],\n",
       "\n",
       "        [[ 6,  7],\n",
       "         [ 8,  9],\n",
       "         [10, 11]],\n",
       "\n",
       "        [[12, 13],\n",
       "         [14, 15],\n",
       "         [16, 17]]])"
      ]
     },
     "execution_count": 35,
     "metadata": {},
     "output_type": "execute_result"
    }
   ],
   "source": [
    "example.view(3, 3, 2) # product of dim numbers should be the same"
   ]
  },
  {
   "attachments": {},
   "cell_type": "markdown",
   "metadata": {},
   "source": [
    "In pytorch `.view` operation is extremely efficient because a tensor is stored as a 1D sequence of bytes in memory and the attributes of the tensor add the dimesionality to it. When we call `.view` we only modify these attributes but the underlying tensor remains the same."
   ]
  },
  {
   "cell_type": "code",
   "execution_count": 36,
   "metadata": {},
   "outputs": [
    {
     "data": {
      "text/plain": [
       "torch.Size([16, 3, 2])"
      ]
     },
     "execution_count": 36,
     "metadata": {},
     "output_type": "execute_result"
    }
   ],
   "source": [
    "emb.shape"
   ]
  },
  {
   "cell_type": "code",
   "execution_count": 37,
   "metadata": {},
   "outputs": [
    {
     "data": {
      "text/plain": [
       "tensor([[-0.7139,  0.3497, -0.7139,  0.3497, -0.7139,  0.3497],\n",
       "        [-0.7139,  0.3497, -0.7139,  0.3497, -1.2853, -0.4953],\n",
       "        [-0.7139,  0.3497, -1.2853, -0.4953,  0.6509,  0.6420],\n",
       "        [-1.2853, -0.4953,  0.6509,  0.6420,  0.6509,  0.6420],\n",
       "        [ 0.6509,  0.6420,  0.6509,  0.6420,  0.5407, -0.7839],\n",
       "        [-0.7139,  0.3497, -0.7139,  0.3497, -0.7139,  0.3497],\n",
       "        [-0.7139,  0.3497, -0.7139,  0.3497,  1.8286, -1.0109],\n",
       "        [-0.7139,  0.3497,  1.8286, -1.0109,  0.7117,  0.5099],\n",
       "        [ 1.8286, -1.0109,  0.7117,  0.5099,  0.0570, -0.8869],\n",
       "        [ 0.7117,  0.5099,  0.0570, -0.8869,  0.5003,  0.9672],\n",
       "        [ 0.0570, -0.8869,  0.5003,  0.9672,  0.0570, -0.8869],\n",
       "        [ 0.5003,  0.9672,  0.0570, -0.8869,  0.5407, -0.7839],\n",
       "        [-0.7139,  0.3497, -0.7139,  0.3497, -0.7139,  0.3497],\n",
       "        [-0.7139,  0.3497, -0.7139,  0.3497,  0.5407, -0.7839],\n",
       "        [-0.7139,  0.3497,  0.5407, -0.7839,  0.5003,  0.9672],\n",
       "        [ 0.5407, -0.7839,  0.5003,  0.9672,  0.5407, -0.7839]])"
      ]
     },
     "execution_count": 37,
     "metadata": {},
     "output_type": "execute_result"
    }
   ],
   "source": [
    "emb.view(16, 6)"
   ]
  },
  {
   "attachments": {},
   "cell_type": "markdown",
   "metadata": {},
   "source": [
    "So we can get the hidden states of the hidden layer by:"
   ]
  },
  {
   "cell_type": "code",
   "execution_count": 38,
   "metadata": {},
   "outputs": [],
   "source": [
    "h = emb.view(16, 6) @ W1 + B1"
   ]
  },
  {
   "cell_type": "code",
   "execution_count": 39,
   "metadata": {},
   "outputs": [
    {
     "data": {
      "text/plain": [
       "torch.Size([16, 100])"
      ]
     },
     "execution_count": 39,
     "metadata": {},
     "output_type": "execute_result"
    }
   ],
   "source": [
    "h.shape"
   ]
  },
  {
   "cell_type": "code",
   "execution_count": 40,
   "metadata": {},
   "outputs": [],
   "source": [
    "# we're still hardcoding emb's dimensionality so to fix that we can do\n",
    "h = emb.view(-1, 6) @ W1 + B1 # -1 means pytorch can derive the appropriate dim"
   ]
  },
  {
   "attachments": {},
   "cell_type": "markdown",
   "metadata": {},
   "source": [
    "So now we perform a `tanh` (from the paper) to get the 100 dimensional activations of all of our 16 examples."
   ]
  },
  {
   "cell_type": "code",
   "execution_count": 41,
   "metadata": {},
   "outputs": [],
   "source": [
    "h = torch.tanh(emb.view(-1, 6) @ W1 + B1)"
   ]
  },
  {
   "attachments": {},
   "cell_type": "markdown",
   "metadata": {},
   "source": [
    "## Implementing The Output Layer"
   ]
  },
  {
   "cell_type": "code",
   "execution_count": 42,
   "metadata": {},
   "outputs": [],
   "source": [
    "W2 = torch.randn((100, 27)) # input is 100 and output number of neurons is 27 for our vocab size\n",
    "B2 = torch.randn(27)"
   ]
  },
  {
   "cell_type": "code",
   "execution_count": 43,
   "metadata": {},
   "outputs": [],
   "source": [
    "logits = h @ W2 + B2"
   ]
  },
  {
   "cell_type": "code",
   "execution_count": 44,
   "metadata": {},
   "outputs": [
    {
     "data": {
      "text/plain": [
       "torch.Size([16, 27])"
      ]
     },
     "execution_count": 44,
     "metadata": {},
     "output_type": "execute_result"
    }
   ],
   "source": [
    "logits.shape"
   ]
  },
  {
   "cell_type": "code",
   "execution_count": 45,
   "metadata": {},
   "outputs": [
    {
     "data": {
      "text/plain": [
       "torch.Size([16, 27])"
      ]
     },
     "execution_count": 45,
     "metadata": {},
     "output_type": "execute_result"
    }
   ],
   "source": [
    "# getting prob dist from logits\n",
    "counts = logits.exp()\n",
    "probs = counts / counts.sum(1, keepdims=True)\n",
    "probs.shape"
   ]
  },
  {
   "cell_type": "code",
   "execution_count": 46,
   "metadata": {},
   "outputs": [
    {
     "data": {
      "text/plain": [
       "tensor([3.1269e-06, 1.0614e-09, 7.0722e-09, 2.0378e-11, 2.4170e-07, 3.8060e-05,\n",
       "        8.7303e-11, 2.7432e-07, 9.9972e-01, 5.5233e-10, 3.6923e-09, 2.3144e-10,\n",
       "        5.6281e-07, 1.4880e-04, 1.7364e-07, 4.6059e-07, 2.7352e-08, 5.5446e-09,\n",
       "        1.1521e-09, 6.2791e-06, 8.1397e-09, 9.9835e-06, 2.1969e-09, 7.6047e-05,\n",
       "        9.2191e-09, 3.5818e-10, 1.4520e-09])"
      ]
     },
     "execution_count": 46,
     "metadata": {},
     "output_type": "execute_result"
    }
   ],
   "source": [
    "probs[0]"
   ]
  },
  {
   "cell_type": "code",
   "execution_count": 47,
   "metadata": {},
   "outputs": [
    {
     "data": {
      "text/plain": [
       "tensor(1.0000)"
      ]
     },
     "execution_count": 47,
     "metadata": {},
     "output_type": "execute_result"
    }
   ],
   "source": [
    "probs[0].sum()"
   ]
  },
  {
   "attachments": {},
   "cell_type": "markdown",
   "metadata": {},
   "source": [
    "## Loss Function"
   ]
  },
  {
   "cell_type": "code",
   "execution_count": 48,
   "metadata": {},
   "outputs": [
    {
     "data": {
      "text/plain": [
       "tensor([3.8060e-05, 6.3083e-07, 3.4227e-06, 1.0599e-08, 5.4628e-09, 4.6059e-07,\n",
       "        2.0512e-15, 9.1865e-09, 4.2476e-01, 1.1793e-09, 1.6426e-01, 5.2633e-09,\n",
       "        1.0614e-09, 2.3961e-03, 2.0253e-08, 3.7852e-05])"
      ]
     },
     "execution_count": 48,
     "metadata": {},
     "output_type": "execute_result"
    }
   ],
   "source": [
    "# iterate through the rows of probs\n",
    "probs[torch.arange(16), Y] # probs assigned by this NN to the correct character in the seq"
   ]
  },
  {
   "cell_type": "code",
   "execution_count": 49,
   "metadata": {},
   "outputs": [
    {
     "data": {
      "text/plain": [
       "tensor(14.8887)"
      ]
     },
     "execution_count": 49,
     "metadata": {},
     "output_type": "execute_result"
    }
   ],
   "source": [
    "nlll = - probs[torch.arange(16), Y].log().mean() # negative log likelihood loss\n",
    "nlll"
   ]
  },
  {
   "attachments": {},
   "cell_type": "markdown",
   "metadata": {},
   "source": [
    "## Cross Entropy As Loss\n",
    "\n",
    "When we use `F.cross_entropy` pytorch doesn't create the intermediate tensors and evaluates all these operations in a very efficient manner. The expressions also take a much simpler form mathematically which makes it easier to perform a backward pass."
   ]
  },
  {
   "cell_type": "code",
   "execution_count": 50,
   "metadata": {},
   "outputs": [
    {
     "data": {
      "text/plain": [
       "tensor(14.8887)"
      ]
     },
     "execution_count": 50,
     "metadata": {},
     "output_type": "execute_result"
    }
   ],
   "source": [
    "loss = F.cross_entropy(logits, Y)\n",
    "loss"
   ]
  },
  {
   "cell_type": "code",
   "execution_count": 51,
   "metadata": {},
   "outputs": [
    {
     "data": {
      "text/plain": [
       "tensor([9.0466e-04, 3.3281e-04, 6.6846e-03, 9.9208e-01])"
      ]
     },
     "execution_count": 51,
     "metadata": {},
     "output_type": "execute_result"
    }
   ],
   "source": [
    "# example of when cross_entropy is better than the other version\n",
    "logits = torch.tensor([-2, -3, 0, 5])\n",
    "counts = logits.exp()\n",
    "probs = counts / counts.sum()\n",
    "probs"
   ]
  },
  {
   "cell_type": "code",
   "execution_count": 52,
   "metadata": {},
   "outputs": [
    {
     "data": {
      "text/plain": [
       "tensor([0., 0., 0., nan])"
      ]
     },
     "execution_count": 52,
     "metadata": {},
     "output_type": "execute_result"
    }
   ],
   "source": [
    "# lets try that again but with one of the logits being a large value\n",
    "logits = torch.tensor([-2, -3, 0, 100])\n",
    "counts = logits.exp()\n",
    "probs = counts / counts.sum()\n",
    "probs"
   ]
  },
  {
   "cell_type": "code",
   "execution_count": 53,
   "metadata": {},
   "outputs": [
    {
     "data": {
      "text/plain": [
       "tensor([0.1353, 0.0498, 1.0000,    inf])"
      ]
     },
     "execution_count": 53,
     "metadata": {},
     "output_type": "execute_result"
    }
   ],
   "source": [
    "counts"
   ]
  },
  {
   "attachments": {},
   "cell_type": "markdown",
   "metadata": {},
   "source": [
    "If we pass a very positive number as logit, we run out of range for floating point number and it gets rounded off as `inf` which leads to `nan`."
   ]
  },
  {
   "attachments": {},
   "cell_type": "markdown",
   "metadata": {},
   "source": [
    "## Training Loop"
   ]
  },
  {
   "cell_type": "code",
   "execution_count": 58,
   "metadata": {},
   "outputs": [],
   "source": [
    "parameters = [C, W1, B1, W2, B2]"
   ]
  },
  {
   "cell_type": "code",
   "execution_count": 60,
   "metadata": {},
   "outputs": [
    {
     "data": {
      "text/plain": [
       "3481"
      ]
     },
     "execution_count": 60,
     "metadata": {},
     "output_type": "execute_result"
    }
   ],
   "source": [
    "sum(p.nelement() for p in parameters)"
   ]
  },
  {
   "cell_type": "code",
   "execution_count": 61,
   "metadata": {},
   "outputs": [],
   "source": [
    "for p in parameters:\n",
    "    p.requires_grad = True"
   ]
  },
  {
   "cell_type": "code",
   "execution_count": 62,
   "metadata": {},
   "outputs": [
    {
     "name": "stdout",
     "output_type": "stream",
     "text": [
      "14.888745307922363\n",
      "9.754424095153809\n",
      "7.582003116607666\n",
      "5.8511152267456055\n",
      "4.531665325164795\n",
      "3.3293516635894775\n",
      "2.3574252128601074\n",
      "1.7590218782424927\n",
      "1.3169673681259155\n",
      "0.9678165912628174\n"
     ]
    }
   ],
   "source": [
    "for _ in range(10):\n",
    "    # forward pass\n",
    "    emb = C[X]\n",
    "    h = torch.tanh(emb.view(-1, 6) @ W1 + B1)\n",
    "    logits = h @ W2 + B2\n",
    "    loss = F.cross_entropy(logits, Y)\n",
    "    print(loss.item())\n",
    "\n",
    "    # backward pass\n",
    "    for p in parameters:\n",
    "        p.grad = None\n",
    "    loss.backward()\n",
    "\n",
    "    #update\n",
    "    for p in parameters:\n",
    "        p.data += -0.1 *p.grad"
   ]
  },
  {
   "attachments": {},
   "cell_type": "markdown",
   "metadata": {},
   "source": [
    "## Training On Full Dataset"
   ]
  },
  {
   "cell_type": "code",
   "execution_count": 64,
   "metadata": {},
   "outputs": [],
   "source": [
    "block_size = 3 \n",
    "X, Y = [], []\n",
    "\n",
    "for w in words:\n",
    "    context = [0] * block_size \n",
    "    for ch in w + '.':\n",
    "        ix = chtoi[ch]\n",
    "        X.append(context)\n",
    "        Y.append(ix)\n",
    "        context = context[1:] + [ix] \n",
    "\n",
    "\n",
    "X = torch.tensor(X)\n",
    "Y = torch.tensor(Y)"
   ]
  },
  {
   "cell_type": "code",
   "execution_count": 65,
   "metadata": {},
   "outputs": [
    {
     "data": {
      "text/plain": [
       "(torch.Size([228146, 3]), torch.int64, torch.Size([228146]), torch.int64)"
      ]
     },
     "execution_count": 65,
     "metadata": {},
     "output_type": "execute_result"
    }
   ],
   "source": [
    "X.shape, X.dtype, Y.shape, Y.dtype"
   ]
  },
  {
   "cell_type": "code",
   "execution_count": 66,
   "metadata": {},
   "outputs": [],
   "source": [
    "C = torch.randn((27, 2))\n",
    "W1 = torch.randn((6, 100))\n",
    "B1 = torch.randn(100)\n",
    "W2 = torch.randn((100, 27))\n",
    "B2 = torch.randn(27)\n",
    "parameters = [C, W1, B1, W2, B2]"
   ]
  },
  {
   "cell_type": "code",
   "execution_count": 67,
   "metadata": {},
   "outputs": [
    {
     "data": {
      "text/plain": [
       "3481"
      ]
     },
     "execution_count": 67,
     "metadata": {},
     "output_type": "execute_result"
    }
   ],
   "source": [
    "sum(p.nelement() for p in parameters)"
   ]
  },
  {
   "cell_type": "code",
   "execution_count": 68,
   "metadata": {},
   "outputs": [],
   "source": [
    "for p in parameters:\n",
    "    p.requires_grad = True"
   ]
  },
  {
   "cell_type": "code",
   "execution_count": 70,
   "metadata": {},
   "outputs": [
    {
     "name": "stdout",
     "output_type": "stream",
     "text": [
      "9.300354957580566\n",
      "9.011356353759766\n",
      "8.734731674194336\n",
      "8.469477653503418\n",
      "8.215428352355957\n",
      "7.972219944000244\n",
      "7.7400336265563965\n",
      "7.518606185913086\n",
      "7.307833671569824\n",
      "7.107341289520264\n"
     ]
    }
   ],
   "source": [
    "for _ in range(10):\n",
    "    # forward pass\n",
    "    emb = C[X]\n",
    "    h = torch.tanh(emb.view(-1, 6) @ W1 + B1)\n",
    "    logits = h @ W2 + B2\n",
    "    loss = F.cross_entropy(logits, Y)\n",
    "    print(loss.item())\n",
    "\n",
    "    # backward pass\n",
    "    for p in parameters:\n",
    "        p.grad = None\n",
    "    loss.backward()\n",
    "\n",
    "    #update\n",
    "    for p in parameters:\n",
    "        p.data += -0.1 *p.grad"
   ]
  },
  {
   "attachments": {},
   "cell_type": "markdown",
   "metadata": {},
   "source": [
    "## Training Using Mini Batches"
   ]
  },
  {
   "cell_type": "code",
   "execution_count": 71,
   "metadata": {},
   "outputs": [
    {
     "data": {
      "text/plain": [
       "tensor([2, 0, 3, 1, 1, 3, 3, 1, 2, 3, 4, 3, 4, 1, 2, 0, 0, 0, 4, 4, 1, 2, 4, 2,\n",
       "        2, 4, 4, 3, 2, 1, 4, 2])"
      ]
     },
     "execution_count": 71,
     "metadata": {},
     "output_type": "execute_result"
    }
   ],
   "source": [
    "# generate 32 numbers b/w 0 and 5\n",
    "torch.randint(0, 5, (32, ))"
   ]
  },
  {
   "cell_type": "code",
   "execution_count": 72,
   "metadata": {},
   "outputs": [
    {
     "data": {
      "text/plain": [
       "tensor([192243,  52594, 109420, 153200, 141591,  98267,   3361, 188364, 125425,\n",
       "        138160,   4298, 120692,  94276,  68859, 177697, 146915,  92682,  49447,\n",
       "        115655,  81626, 133559,  80606,  60174,  85853, 194280, 202666, 133599,\n",
       "        177270, 139566, 175848,  87711, 198502])"
      ]
     },
     "execution_count": 72,
     "metadata": {},
     "output_type": "execute_result"
    }
   ],
   "source": [
    "torch.randint(0, X.shape[0], (32, )) # integers that can index into our dataset"
   ]
  },
  {
   "cell_type": "code",
   "execution_count": 89,
   "metadata": {},
   "outputs": [
    {
     "name": "stdout",
     "output_type": "stream",
     "text": [
      "2.3140571117401123\n"
     ]
    }
   ],
   "source": [
    "for _ in range(1000):\n",
    "    # creating mini batch\n",
    "    ix = torch.randint(0, X.shape[0], (32, ))\n",
    "\n",
    "    # forward pass\n",
    "    emb = C[X[ix]] # only get 32 rows of X\n",
    "    h = torch.tanh(emb.view(-1, 6) @ W1 + B1)\n",
    "    logits = h @ W2 + B2\n",
    "    loss = F.cross_entropy(logits, Y[ix])\n",
    "\n",
    "    # backward pass\n",
    "    for p in parameters:\n",
    "        p.grad = None\n",
    "    loss.backward()\n",
    "\n",
    "    #update\n",
    "    for p in parameters:\n",
    "        p.data += -0.1 *p.grad\n",
    "\n",
    "print(loss.item()) # this loss is for that mini batch"
   ]
  },
  {
   "cell_type": "code",
   "execution_count": 90,
   "metadata": {},
   "outputs": [
    {
     "data": {
      "text/plain": [
       "2.534379243850708"
      ]
     },
     "execution_count": 90,
     "metadata": {},
     "output_type": "execute_result"
    }
   ],
   "source": [
    "emb = C[X] \n",
    "h = torch.tanh(emb.view(-1, 6) @ W1 + B1)\n",
    "logits = h @ W2 + B2\n",
    "loss = F.cross_entropy(logits, Y)\n",
    "loss.item()"
   ]
  },
  {
   "attachments": {},
   "cell_type": "markdown",
   "metadata": {},
   "source": [
    "## Picking A Learning Rate\n",
    "\n",
    "We can observe by hit and trial that the learning rate `0.001` is too low and a learning rate of `1` is too high."
   ]
  },
  {
   "cell_type": "code",
   "execution_count": 101,
   "metadata": {},
   "outputs": [
    {
     "data": {
      "text/plain": [
       "tensor([0.0010, 0.0010, 0.0010, 0.0010, 0.0010, 0.0010, 0.0010, 0.0010, 0.0011,\n",
       "        0.0011])"
      ]
     },
     "execution_count": 101,
     "metadata": {},
     "output_type": "execute_result"
    }
   ],
   "source": [
    "lre = torch.linspace(-3, 0, 1000) # lower limit, upper limit, number of steps\n",
    "lrs = 10**lre # 10 to the power of lre\n",
    "lrs[:10]"
   ]
  },
  {
   "attachments": {},
   "cell_type": "markdown",
   "metadata": {},
   "source": [
    "Using one of the learning rates from the above list."
   ]
  },
  {
   "cell_type": "code",
   "execution_count": 102,
   "metadata": {},
   "outputs": [],
   "source": [
    "# reset the params\n",
    "C = torch.randn((27, 2))\n",
    "W1 = torch.randn((6, 100))\n",
    "B1 = torch.randn(100)\n",
    "W2 = torch.randn((100, 27))\n",
    "B2 = torch.randn(27)\n",
    "parameters = [C, W1, B1, W2, B2]\n",
    "\n",
    "for p in parameters:\n",
    "    p.requires_grad = True"
   ]
  },
  {
   "cell_type": "code",
   "execution_count": 103,
   "metadata": {},
   "outputs": [],
   "source": [
    "lri = []\n",
    "lossi = []\n",
    "\n",
    "for i in range(1000):\n",
    "    # creating mini batch\n",
    "    ix = torch.randint(0, X.shape[0], (32, ))\n",
    "\n",
    "    # forward pass\n",
    "    emb = C[X[ix]] \n",
    "    h = torch.tanh(emb.view(-1, 6) @ W1 + B1)\n",
    "    logits = h @ W2 + B2\n",
    "    loss = F.cross_entropy(logits, Y[ix])\n",
    "\n",
    "    # backward pass\n",
    "    for p in parameters:\n",
    "        p.grad = None\n",
    "    loss.backward()\n",
    "\n",
    "    #update\n",
    "    lr = lrs[i]\n",
    "    for p in parameters:\n",
    "        p.data += -lr * p.grad\n",
    "\n",
    "    # track stats\n",
    "    lri.append(lre[i])\n",
    "    lossi.append(loss.item())"
   ]
  },
  {
   "cell_type": "code",
   "execution_count": 104,
   "metadata": {},
   "outputs": [
    {
     "data": {
      "text/plain": [
       "[<matplotlib.lines.Line2D at 0x13679a1f0>]"
      ]
     },
     "execution_count": 104,
     "metadata": {},
     "output_type": "execute_result"
    },
    {
     "data": {
      "image/png": "[encoded data removed]",
      "text/plain": [
       "<Figure size 640x480 with 1 Axes>"
      ]
     },
     "metadata": {},
     "output_type": "display_data"
    }
   ],
   "source": [
    "plot.plot(lri, lossi)"
   ]
  },
  {
   "attachments": {},
   "cell_type": "markdown",
   "metadata": {},
   "source": [
    "A good learing rate exponent is somewhere around -1.0.\n",
    "\n",
    "So now that we have confidence that 0.1 is a good learning rate we train our model for more iterations using that learning rate."
   ]
  },
  {
   "cell_type": "code",
   "execution_count": 105,
   "metadata": {},
   "outputs": [],
   "source": [
    "# reset the params\n",
    "C = torch.randn((27, 2))\n",
    "W1 = torch.randn((6, 100))\n",
    "B1 = torch.randn(100)\n",
    "W2 = torch.randn((100, 27))\n",
    "B2 = torch.randn(27)\n",
    "parameters = [C, W1, B1, W2, B2]\n",
    "\n",
    "for p in parameters:\n",
    "    p.requires_grad = True"
   ]
  },
  {
   "cell_type": "code",
   "execution_count": 108,
   "metadata": {},
   "outputs": [],
   "source": [
    "lr = 0.1\n",
    "\n",
    "for i in range(10000):\n",
    "    # creating mini batch\n",
    "    ix = torch.randint(0, X.shape[0], (32, ))\n",
    "\n",
    "    # forward pass\n",
    "    emb = C[X[ix]] \n",
    "    h = torch.tanh(emb.view(-1, 6) @ W1 + B1)\n",
    "    logits = h @ W2 + B2\n",
    "    loss = F.cross_entropy(logits, Y[ix])\n",
    "\n",
    "    # backward pass\n",
    "    for p in parameters:\n",
    "        p.grad = None\n",
    "    loss.backward()\n",
    "\n",
    "    #update\n",
    "    for p in parameters:\n",
    "        p.data += -lr * p.grad"
   ]
  },
  {
   "cell_type": "code",
   "execution_count": 109,
   "metadata": {},
   "outputs": [
    {
     "data": {
      "text/plain": [
       "2.2983362674713135"
      ]
     },
     "execution_count": 109,
     "metadata": {},
     "output_type": "execute_result"
    }
   ],
   "source": [
    "# overall loss\n",
    "emb = C[X] \n",
    "h = torch.tanh(emb.view(-1, 6) @ W1 + B1)\n",
    "logits = h @ W2 + B2\n",
    "loss = F.cross_entropy(logits, Y)\n",
    "loss.item()"
   ]
  },
  {
   "attachments": {},
   "cell_type": "markdown",
   "metadata": {},
   "source": [
    "**Learning Rate Decay:** when we notice the loss starting to plateau, we reduce the learning rate to improve the trianing."
   ]
  },
  {
   "cell_type": "code",
   "execution_count": 114,
   "metadata": {},
   "outputs": [],
   "source": [
    "lr = 0.01\n",
    "\n",
    "for i in range(10000):\n",
    "    # creating mini batch\n",
    "    ix = torch.randint(0, X.shape[0], (32, ))\n",
    "\n",
    "    # forward pass\n",
    "    emb = C[X[ix]] \n",
    "    h = torch.tanh(emb.view(-1, 6) @ W1 + B1)\n",
    "    logits = h @ W2 + B2\n",
    "    loss = F.cross_entropy(logits, Y[ix])\n",
    "\n",
    "    # backward pass\n",
    "    for p in parameters:\n",
    "        p.grad = None\n",
    "    loss.backward()\n",
    "\n",
    "    #update\n",
    "    for p in parameters:\n",
    "        p.data += -lr * p.grad"
   ]
  },
  {
   "cell_type": "code",
   "execution_count": 115,
   "metadata": {},
   "outputs": [
    {
     "data": {
      "text/plain": [
       "2.2560508251190186"
      ]
     },
     "execution_count": 115,
     "metadata": {},
     "output_type": "execute_result"
    }
   ],
   "source": [
    "# overall loss\n",
    "emb = C[X] \n",
    "h = torch.tanh(emb.view(-1, 6) @ W1 + B1)\n",
    "logits = h @ W2 + B2\n",
    "loss = F.cross_entropy(logits, Y)\n",
    "loss.item()"
   ]
  },
  {
   "attachments": {},
   "cell_type": "markdown",
   "metadata": {},
   "source": [
    "## Creating Training, Validation And Test Splits"
   ]
  },
  {
   "cell_type": "code",
   "execution_count": 119,
   "metadata": {},
   "outputs": [],
   "source": [
    "def build_dataset(words):\n",
    "    block_size = 3 \n",
    "    X, Y = [], []\n",
    "\n",
    "    for w in words:\n",
    "        context = [0] * block_size \n",
    "        for ch in w + '.':\n",
    "            ix = chtoi[ch]\n",
    "            X.append(context)\n",
    "            Y.append(ix)\n",
    "            context = context[1:] + [ix] \n",
    "\n",
    "\n",
    "    X = torch.tensor(X)\n",
    "    Y = torch.tensor(Y)\n",
    "\n",
    "    print(X.shape, Y.shape)\n",
    "    \n",
    "    return X, Y"
   ]
  },
  {
   "cell_type": "code",
   "execution_count": 118,
   "metadata": {},
   "outputs": [],
   "source": [
    "random.shuffle(words)"
   ]
  },
  {
   "cell_type": "code",
   "execution_count": 120,
   "metadata": {},
   "outputs": [],
   "source": [
    "n1 = int(0.8*len(words))\n",
    "n2 = int(0.9*len(words))"
   ]
  },
  {
   "cell_type": "code",
   "execution_count": 121,
   "metadata": {},
   "outputs": [
    {
     "data": {
      "text/plain": [
       "(25626, 28829)"
      ]
     },
     "execution_count": 121,
     "metadata": {},
     "output_type": "execute_result"
    }
   ],
   "source": [
    "n1, n2"
   ]
  },
  {
   "cell_type": "code",
   "execution_count": 122,
   "metadata": {},
   "outputs": [
    {
     "name": "stdout",
     "output_type": "stream",
     "text": [
      "torch.Size([182542, 3]) torch.Size([182542])\n",
      "torch.Size([22700, 3]) torch.Size([22700])\n",
      "torch.Size([22904, 3]) torch.Size([22904])\n"
     ]
    }
   ],
   "source": [
    "Xtr, Ytr = build_dataset(words[:n1])\n",
    "Xval, Yval = build_dataset(words[n1:n2])\n",
    "Xtest, Ytest = build_dataset(words[n2:])"
   ]
  },
  {
   "attachments": {},
   "cell_type": "markdown",
   "metadata": {},
   "source": [
    "## Training Using New Splits"
   ]
  },
  {
   "cell_type": "code",
   "execution_count": 123,
   "metadata": {},
   "outputs": [],
   "source": [
    "# reset the params\n",
    "C = torch.randn((27, 2))\n",
    "W1 = torch.randn((6, 100))\n",
    "B1 = torch.randn(100)\n",
    "W2 = torch.randn((100, 27))\n",
    "B2 = torch.randn(27)\n",
    "parameters = [C, W1, B1, W2, B2]\n",
    "\n",
    "for p in parameters:\n",
    "    p.requires_grad = True"
   ]
  },
  {
   "cell_type": "code",
   "execution_count": 129,
   "metadata": {},
   "outputs": [],
   "source": [
    "lr = 0.01 # init 0.1 then decay it to 0.01\n",
    "\n",
    "for i in range(10000):\n",
    "    # creating mini batch\n",
    "    ix = torch.randint(0, Xtr.shape[0], (32, ))\n",
    "\n",
    "    # forward pass\n",
    "    emb = C[Xtr[ix]] \n",
    "    h = torch.tanh(emb.view(-1, 6) @ W1 + B1)\n",
    "    logits = h @ W2 + B2\n",
    "    loss = F.cross_entropy(logits, Ytr[ix])\n",
    "\n",
    "    # backward pass\n",
    "    for p in parameters:\n",
    "        p.grad = None\n",
    "    loss.backward()\n",
    "\n",
    "    #update\n",
    "    for p in parameters:\n",
    "        p.data += -lr * p.grad"
   ]
  },
  {
   "cell_type": "code",
   "execution_count": 131,
   "metadata": {},
   "outputs": [
    {
     "data": {
      "text/plain": [
       "2.304917097091675"
      ]
     },
     "execution_count": 131,
     "metadata": {},
     "output_type": "execute_result"
    }
   ],
   "source": [
    "# overall loss on training set\n",
    "emb = C[Xtr] \n",
    "h = torch.tanh(emb.view(-1, 6) @ W1 + B1)\n",
    "logits = h @ W2 + B2\n",
    "loss = F.cross_entropy(logits, Ytr)\n",
    "loss.item()"
   ]
  },
  {
   "cell_type": "code",
   "execution_count": 130,
   "metadata": {},
   "outputs": [
    {
     "data": {
      "text/plain": [
       "2.30938982963562"
      ]
     },
     "execution_count": 130,
     "metadata": {},
     "output_type": "execute_result"
    }
   ],
   "source": [
    "# overall loss on validation set\n",
    "emb = C[Xval] \n",
    "h = torch.tanh(emb.view(-1, 6) @ W1 + B1)\n",
    "logits = h @ W2 + B2\n",
    "loss = F.cross_entropy(logits, Yval)\n",
    "loss.item()"
   ]
  },
  {
   "attachments": {},
   "cell_type": "markdown",
   "metadata": {},
   "source": [
    "Right now the training and validation loss are almost equal. That's how we know we're not overfitting."
   ]
  },
  {
   "attachments": {},
   "cell_type": "markdown",
   "metadata": {},
   "source": [
    "## Using A Larger Hidden Layer\n",
    "\n",
    "Our model is powerful enough to just memorise the data but our training and validation losses are almost equal so we're not overfitting, we're underfitting. That means that our network is very small and we can expect to make performance improvements by scaling up the size of the model."
   ]
  },
  {
   "attachments": {},
   "cell_type": "markdown",
   "metadata": {},
   "source": [
    "### Increasing The Number Of Neurons In The Hidden Layer"
   ]
  },
  {
   "cell_type": "code",
   "execution_count": 133,
   "metadata": {},
   "outputs": [],
   "source": [
    "# reset params\n",
    "C = torch.randn((27, 2))\n",
    "W1 = torch.randn((6, 300)) # increased from 100 to 300\n",
    "B1 = torch.randn(300) # 300 biases for each neuron\n",
    "W2 = torch.randn((300, 27)) # 300 inputs for the next layer\n",
    "B2 = torch.randn(27)\n",
    "parameters = [C, W1, B1, W2, B2]\n",
    "\n",
    "for p in parameters:\n",
    "    p.requires_grad = True"
   ]
  },
  {
   "cell_type": "code",
   "execution_count": 134,
   "metadata": {},
   "outputs": [
    {
     "data": {
      "text/plain": [
       "10281"
      ]
     },
     "execution_count": 134,
     "metadata": {},
     "output_type": "execute_result"
    }
   ],
   "source": [
    "sum(p.nelement() for p in parameters)"
   ]
  },
  {
   "attachments": {},
   "cell_type": "markdown",
   "metadata": {},
   "source": [
    "Our parameters have increased from 3481 to 10281"
   ]
  },
  {
   "cell_type": "code",
   "execution_count": null,
   "metadata": {},
   "outputs": [],
   "source": [
    "lr = 0.1\n",
    "lossi = []\n",
    "stepi = []"
   ]
  },
  {
   "cell_type": "code",
   "execution_count": 160,
   "metadata": {},
   "outputs": [],
   "source": [
    "for i in range(30000):\n",
    "    # creating mini batch\n",
    "    ix = torch.randint(0, Xtr.shape[0], (32, ))\n",
    "\n",
    "    # forward pass\n",
    "    emb = C[Xtr[ix]] \n",
    "    h = torch.tanh(emb.view(-1, 6) @ W1 + B1)\n",
    "    logits = h @ W2 + B2\n",
    "    loss = F.cross_entropy(logits, Ytr[ix])\n",
    "\n",
    "    # backward pass\n",
    "    for p in parameters:\n",
    "        p.grad = None\n",
    "    loss.backward()\n",
    "\n",
    "    #update\n",
    "    for p in parameters:\n",
    "        p.data += -0.01 * p.grad # dec to 0.05 \n",
    "\n",
    "    # track stats\n",
    "    stepi.append(i)\n",
    "    lossi.append(loss.item())"
   ]
  },
  {
   "cell_type": "code",
   "execution_count": 161,
   "metadata": {},
   "outputs": [
    {
     "data": {
      "text/plain": [
       "[<matplotlib.lines.Line2D at 0x146f33a90>]"
      ]
     },
     "execution_count": 161,
     "metadata": {},
     "output_type": "execute_result"
    },
    {
     "data": {
      "image/png": "[encoded data removed]",
      "text/plain": [
       "<Figure size 640x480 with 1 Axes>"
      ]
     },
     "metadata": {},
     "output_type": "display_data"
    }
   ],
   "source": [
    "plot.plot(stepi, lossi)"
   ]
  },
  {
   "attachments": {},
   "cell_type": "markdown",
   "metadata": {},
   "source": [
    "The lines have a bit of a height to them after optimizing. That's because we're using mini batches which add a little bit of noise."
   ]
  },
  {
   "cell_type": "code",
   "execution_count": 162,
   "metadata": {},
   "outputs": [
    {
     "data": {
      "text/plain": [
       "2.223731279373169"
      ]
     },
     "execution_count": 162,
     "metadata": {},
     "output_type": "execute_result"
    }
   ],
   "source": [
    "# overall loss on training set\n",
    "emb = C[Xtr] \n",
    "h = torch.tanh(emb.view(-1, 6) @ W1 + B1)\n",
    "logits = h @ W2 + B2\n",
    "loss = F.cross_entropy(logits, Ytr)\n",
    "loss.item()"
   ]
  },
  {
   "cell_type": "code",
   "execution_count": 163,
   "metadata": {},
   "outputs": [
    {
     "data": {
      "text/plain": [
       "2.2455334663391113"
      ]
     },
     "execution_count": 163,
     "metadata": {},
     "output_type": "execute_result"
    }
   ],
   "source": [
    "# overall loss on validation set\n",
    "emb = C[Xval] \n",
    "h = torch.tanh(emb.view(-1, 6) @ W1 + B1)\n",
    "logits = h @ W2 + B2\n",
    "loss = F.cross_entropy(logits, Yval)\n",
    "loss.item()"
   ]
  },
  {
   "attachments": {},
   "cell_type": "markdown",
   "metadata": {},
   "source": [
    "After training at `lr=0.1` for 30,000 iterations we had a val loss of 2.5. This shows that we haven't improved the loss by much because our larger network requires more training to converge to a lower loss.\n",
    "\n",
    "We can continue training it more and check if the loss improves. Another reason can be that our batch size is very low that we have too much noise in the training data and we might want to increase it to have a better gradient."
   ]
  },
  {
   "attachments": {},
   "cell_type": "markdown",
   "metadata": {},
   "source": [
    "Even after training a bit more we notice that the loss isn't improving by much. One reason can be that the bottleneck of the network right now could be our 2D embeddings. We might be scramming way too many characters into just a 2D vector and the network isn't really able to use that vector space effectively."
   ]
  },
  {
   "attachments": {},
   "cell_type": "markdown",
   "metadata": {},
   "source": [
    "### Visualizing The 2D Character Embeddings Trained By The Network"
   ]
  },
  {
   "cell_type": "code",
   "execution_count": 169,
   "metadata": {},
   "outputs": [
    {
     "data": {
      "image/png": "[encoded data removed]",
      "text/plain": [
       "<Figure size 800x800 with 1 Axes>"
      ]
     },
     "metadata": {},
     "output_type": "display_data"
    }
   ],
   "source": [
    "plot.figure(figsize=(8, 8))\n",
    "plot.scatter(C[:, 0].data, C[:, 1].data, s=200)\n",
    "for i in range(C.shape[0]):\n",
    "    plot.text(C[i, 0].item(), C[i, 1].item(), itoch[i], ha=\"center\", va=\"center\", color=\"white\")\n",
    "plot.grid(\"minor\")    "
   ]
  }
 ],
 "metadata": {
  "kernelspec": {
   "display_name": "transformers-playground",
   "language": "python",
   "name": "python3"
  },
  "language_info": {
   "codemirror_mode": {
    "name": "ipython",
    "version": 3
   },
   "file_extension": ".py",
   "mimetype": "text/x-python",
   "name": "python",
   "nbconvert_exporter": "python",
   "pygments_lexer": "ipython3",
   "version": "3.9.16"
  },
  "orig_nbformat": 4
 },
 "nbformat": 4,
 "nbformat_minor": 2
}
